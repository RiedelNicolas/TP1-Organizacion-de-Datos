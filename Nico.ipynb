{
 "cells": [
  {
   "cell_type": "markdown",
   "metadata": {},
   "source": [
    "## Voy a hacer un analisis de la relacion entre que palabras contienen los tweets y su veracidad. Este analisis abarca, cantidad de palabras, cantidad de caracteres y palabras que aparecen."
   ]
  },
  {
   "cell_type": "markdown",
   "metadata": {},
   "source": [
    "#### Importo las bibliotecas necesarias"
   ]
  },
  {
   "cell_type": "code",
   "execution_count": 1,
   "metadata": {},
   "outputs": [],
   "source": [
    "\n",
    "import pandas as pd\n",
    "import numpy as np\n",
    "import matplotlib.pyplot as plt\n",
    "import matplotlib.cm as cm\n",
    "import matplotlib as mpl\n",
    "import seaborn as sns\n",
    "\n",
    "from bokeh.plotting import figure, output_file, show\n",
    "from matplotlib.colors import ListedColormap\n",
    "from PIL import Image\n",
    "from wordcloud import WordCloud\n",
    "from math import log, sqrt\n",
    "\n",
    "from os import path\n",
    "from PIL import Image\n",
    "from wordcloud import WordCloud, STOPWORDS, ImageColorGenerator\n",
    "import re\n"
   ]
  },
  {
   "cell_type": "markdown",
   "metadata": {},
   "source": [
    "Defino una paleta de colores"
   ]
  },
  {
   "cell_type": "markdown",
   "metadata": {},
   "source": [
    "#### Creo el data frame en base al csv"
   ]
  },
  {
   "cell_type": "code",
   "execution_count": 2,
   "metadata": {},
   "outputs": [],
   "source": [
    "tweets = pd.read_csv('csv/train.csv', encoding='latin-1')"
   ]
  },
  {
   "cell_type": "code",
   "execution_count": 3,
   "metadata": {},
   "outputs": [],
   "source": [
    "cmap = cm.get_cmap('YlOrBr')"
   ]
  },
  {
   "cell_type": "markdown",
   "metadata": {},
   "source": [
    "#### Analizo como esta formado mi data frame"
   ]
  },
  {
   "cell_type": "code",
   "execution_count": 4,
   "metadata": {},
   "outputs": [
    {
     "data": {
      "text/html": [
       "<div>\n",
       "<style scoped>\n",
       "    .dataframe tbody tr th:only-of-type {\n",
       "        vertical-align: middle;\n",
       "    }\n",
       "\n",
       "    .dataframe tbody tr th {\n",
       "        vertical-align: top;\n",
       "    }\n",
       "\n",
       "    .dataframe thead th {\n",
       "        text-align: right;\n",
       "    }\n",
       "</style>\n",
       "<table border=\"1\" class=\"dataframe\">\n",
       "  <thead>\n",
       "    <tr style=\"text-align: right;\">\n",
       "      <th></th>\n",
       "      <th>id</th>\n",
       "      <th>keyword</th>\n",
       "      <th>location</th>\n",
       "      <th>text</th>\n",
       "      <th>target</th>\n",
       "    </tr>\n",
       "  </thead>\n",
       "  <tbody>\n",
       "    <tr>\n",
       "      <th>2901</th>\n",
       "      <td>4167</td>\n",
       "      <td>drown</td>\n",
       "      <td>NaN</td>\n",
       "      <td>when your moms being annoying so you turn your...</td>\n",
       "      <td>0</td>\n",
       "    </tr>\n",
       "    <tr>\n",
       "      <th>4851</th>\n",
       "      <td>6910</td>\n",
       "      <td>mass%20murderer</td>\n",
       "      <td>California, USA</td>\n",
       "      <td>#TheaterShooting DEFENDANT/MASS MURDERER CHOSE...</td>\n",
       "      <td>1</td>\n",
       "    </tr>\n",
       "    <tr>\n",
       "      <th>3333</th>\n",
       "      <td>4774</td>\n",
       "      <td>evacuated</td>\n",
       "      <td>Denver, Colorado</td>\n",
       "      <td>13000 evacuated as California firefighters fig...</td>\n",
       "      <td>1</td>\n",
       "    </tr>\n",
       "  </tbody>\n",
       "</table>\n",
       "</div>"
      ],
      "text/plain": [
       "        id          keyword          location  \\\n",
       "2901  4167            drown               NaN   \n",
       "4851  6910  mass%20murderer   California, USA   \n",
       "3333  4774        evacuated  Denver, Colorado   \n",
       "\n",
       "                                                   text  target  \n",
       "2901  when your moms being annoying so you turn your...       0  \n",
       "4851  #TheaterShooting DEFENDANT/MASS MURDERER CHOSE...       1  \n",
       "3333  13000 evacuated as California firefighters fig...       1  "
      ]
     },
     "execution_count": 4,
     "metadata": {},
     "output_type": "execute_result"
    }
   ],
   "source": [
    "tweets.sample(n=3)"
   ]
  },
  {
   "cell_type": "markdown",
   "metadata": {},
   "source": [
    "#### Tanto la columna de location, keyword e id son irrelevantes para este analisis."
   ]
  },
  {
   "cell_type": "code",
   "execution_count": 5,
   "metadata": {
    "scrolled": false
   },
   "outputs": [
    {
     "data": {
      "text/html": [
       "<div>\n",
       "<style scoped>\n",
       "    .dataframe tbody tr th:only-of-type {\n",
       "        vertical-align: middle;\n",
       "    }\n",
       "\n",
       "    .dataframe tbody tr th {\n",
       "        vertical-align: top;\n",
       "    }\n",
       "\n",
       "    .dataframe thead th {\n",
       "        text-align: right;\n",
       "    }\n",
       "</style>\n",
       "<table border=\"1\" class=\"dataframe\">\n",
       "  <thead>\n",
       "    <tr style=\"text-align: right;\">\n",
       "      <th></th>\n",
       "      <th>id</th>\n",
       "      <th>text</th>\n",
       "      <th>target</th>\n",
       "    </tr>\n",
       "  </thead>\n",
       "  <tbody>\n",
       "    <tr>\n",
       "      <th>4055</th>\n",
       "      <td>5760</td>\n",
       "      <td>Tales of the #trees #deep water loving #Lake T...</td>\n",
       "      <td>0</td>\n",
       "    </tr>\n",
       "    <tr>\n",
       "      <th>4435</th>\n",
       "      <td>6311</td>\n",
       "      <td>@EvaHanderek @MarleyKnysh great times until th...</td>\n",
       "      <td>1</td>\n",
       "    </tr>\n",
       "    <tr>\n",
       "      <th>598</th>\n",
       "      <td>866</td>\n",
       "      <td>[JAX Biz Journal] FedEx stops shipping potenti...</td>\n",
       "      <td>1</td>\n",
       "    </tr>\n",
       "  </tbody>\n",
       "</table>\n",
       "</div>"
      ],
      "text/plain": [
       "        id                                               text  target\n",
       "4055  5760  Tales of the #trees #deep water loving #Lake T...       0\n",
       "4435  6311  @EvaHanderek @MarleyKnysh great times until th...       1\n",
       "598    866  [JAX Biz Journal] FedEx stops shipping potenti...       1"
      ]
     },
     "execution_count": 5,
     "metadata": {},
     "output_type": "execute_result"
    }
   ],
   "source": [
    "del(tweets['keyword'])\n",
    "del(tweets['location'])\n",
    "tweets.sample(n=3)"
   ]
  },
  {
   "cell_type": "markdown",
   "metadata": {},
   "source": [
    "#### me guardo cuantos caracteres contiene cada tweet"
   ]
  },
  {
   "cell_type": "code",
   "execution_count": 6,
   "metadata": {},
   "outputs": [],
   "source": [
    "tweets['nºcaracteres'] = tweets['text'].str.len()"
   ]
  },
  {
   "cell_type": "code",
   "execution_count": 7,
   "metadata": {},
   "outputs": [
    {
     "data": {
      "text/html": [
       "<div>\n",
       "<style scoped>\n",
       "    .dataframe tbody tr th:only-of-type {\n",
       "        vertical-align: middle;\n",
       "    }\n",
       "\n",
       "    .dataframe tbody tr th {\n",
       "        vertical-align: top;\n",
       "    }\n",
       "\n",
       "    .dataframe thead th {\n",
       "        text-align: right;\n",
       "    }\n",
       "</style>\n",
       "<table border=\"1\" class=\"dataframe\">\n",
       "  <thead>\n",
       "    <tr style=\"text-align: right;\">\n",
       "      <th></th>\n",
       "      <th>id</th>\n",
       "      <th>text</th>\n",
       "      <th>target</th>\n",
       "      <th>nºcaracteres</th>\n",
       "    </tr>\n",
       "  </thead>\n",
       "  <tbody>\n",
       "    <tr>\n",
       "      <th>5714</th>\n",
       "      <td>8155</td>\n",
       "      <td>#RoddyPiperAutos Fears over missing migrants i...</td>\n",
       "      <td>1</td>\n",
       "      <td>137</td>\n",
       "    </tr>\n",
       "    <tr>\n",
       "      <th>1260</th>\n",
       "      <td>1816</td>\n",
       "      <td>1943: Poland - work party prisoners in the Naz...</td>\n",
       "      <td>1</td>\n",
       "      <td>136</td>\n",
       "    </tr>\n",
       "    <tr>\n",
       "      <th>6666</th>\n",
       "      <td>9554</td>\n",
       "      <td>If a nigga was a threat then that boy ah be th...</td>\n",
       "      <td>0</td>\n",
       "      <td>53</td>\n",
       "    </tr>\n",
       "  </tbody>\n",
       "</table>\n",
       "</div>"
      ],
      "text/plain": [
       "        id                                               text  target  \\\n",
       "5714  8155  #RoddyPiperAutos Fears over missing migrants i...       1   \n",
       "1260  1816  1943: Poland - work party prisoners in the Naz...       1   \n",
       "6666  9554  If a nigga was a threat then that boy ah be th...       0   \n",
       "\n",
       "      nºcaracteres  \n",
       "5714           137  \n",
       "1260           136  \n",
       "6666            53  "
      ]
     },
     "execution_count": 7,
     "metadata": {},
     "output_type": "execute_result"
    }
   ],
   "source": [
    "tweets.sample(n=3)"
   ]
  },
  {
   "cell_type": "markdown",
   "metadata": {},
   "source": [
    "#### Ahora me interesa separar el texto en palabras."
   ]
  },
  {
   "cell_type": "code",
   "execution_count": 8,
   "metadata": {
    "scrolled": false
   },
   "outputs": [],
   "source": [
    "tweets['palabras']=tweets['text'].str.split()"
   ]
  },
  {
   "cell_type": "code",
   "execution_count": 9,
   "metadata": {
    "scrolled": true
   },
   "outputs": [
    {
     "data": {
      "text/html": [
       "<div>\n",
       "<style scoped>\n",
       "    .dataframe tbody tr th:only-of-type {\n",
       "        vertical-align: middle;\n",
       "    }\n",
       "\n",
       "    .dataframe tbody tr th {\n",
       "        vertical-align: top;\n",
       "    }\n",
       "\n",
       "    .dataframe thead th {\n",
       "        text-align: right;\n",
       "    }\n",
       "</style>\n",
       "<table border=\"1\" class=\"dataframe\">\n",
       "  <thead>\n",
       "    <tr style=\"text-align: right;\">\n",
       "      <th></th>\n",
       "      <th>id</th>\n",
       "      <th>text</th>\n",
       "      <th>target</th>\n",
       "      <th>nºcaracteres</th>\n",
       "      <th>palabras</th>\n",
       "    </tr>\n",
       "  </thead>\n",
       "  <tbody>\n",
       "    <tr>\n",
       "      <th>0</th>\n",
       "      <td>1</td>\n",
       "      <td>Our Deeds are the Reason of this #earthquake M...</td>\n",
       "      <td>1</td>\n",
       "      <td>69</td>\n",
       "      <td>[Our, Deeds, are, the, Reason, of, this, #eart...</td>\n",
       "    </tr>\n",
       "    <tr>\n",
       "      <th>1</th>\n",
       "      <td>4</td>\n",
       "      <td>Forest fire near La Ronge Sask. Canada</td>\n",
       "      <td>1</td>\n",
       "      <td>38</td>\n",
       "      <td>[Forest, fire, near, La, Ronge, Sask., Canada]</td>\n",
       "    </tr>\n",
       "    <tr>\n",
       "      <th>2</th>\n",
       "      <td>5</td>\n",
       "      <td>All residents asked to 'shelter in place' are ...</td>\n",
       "      <td>1</td>\n",
       "      <td>133</td>\n",
       "      <td>[All, residents, asked, to, 'shelter, in, plac...</td>\n",
       "    </tr>\n",
       "    <tr>\n",
       "      <th>3</th>\n",
       "      <td>6</td>\n",
       "      <td>13,000 people receive #wildfires evacuation or...</td>\n",
       "      <td>1</td>\n",
       "      <td>65</td>\n",
       "      <td>[13,000, people, receive, #wildfires, evacuati...</td>\n",
       "    </tr>\n",
       "    <tr>\n",
       "      <th>4</th>\n",
       "      <td>7</td>\n",
       "      <td>Just got sent this photo from Ruby #Alaska as ...</td>\n",
       "      <td>1</td>\n",
       "      <td>88</td>\n",
       "      <td>[Just, got, sent, this, photo, from, Ruby, #Al...</td>\n",
       "    </tr>\n",
       "  </tbody>\n",
       "</table>\n",
       "</div>"
      ],
      "text/plain": [
       "   id                                               text  target  \\\n",
       "0   1  Our Deeds are the Reason of this #earthquake M...       1   \n",
       "1   4             Forest fire near La Ronge Sask. Canada       1   \n",
       "2   5  All residents asked to 'shelter in place' are ...       1   \n",
       "3   6  13,000 people receive #wildfires evacuation or...       1   \n",
       "4   7  Just got sent this photo from Ruby #Alaska as ...       1   \n",
       "\n",
       "   nºcaracteres                                           palabras  \n",
       "0            69  [Our, Deeds, are, the, Reason, of, this, #eart...  \n",
       "1            38     [Forest, fire, near, La, Ronge, Sask., Canada]  \n",
       "2           133  [All, residents, asked, to, 'shelter, in, plac...  \n",
       "3            65  [13,000, people, receive, #wildfires, evacuati...  \n",
       "4            88  [Just, got, sent, this, photo, from, Ruby, #Al...  "
      ]
     },
     "execution_count": 9,
     "metadata": {},
     "output_type": "execute_result"
    }
   ],
   "source": [
    "tweets.head()"
   ]
  },
  {
   "cell_type": "markdown",
   "metadata": {},
   "source": [
    "#### Reordeno las columnas para mayor claridad."
   ]
  },
  {
   "cell_type": "code",
   "execution_count": 10,
   "metadata": {},
   "outputs": [],
   "source": [
    "tweets = tweets[['id','text','palabras','nºcaracteres','target']]"
   ]
  },
  {
   "cell_type": "code",
   "execution_count": 11,
   "metadata": {
    "scrolled": false
   },
   "outputs": [
    {
     "data": {
      "text/html": [
       "<div>\n",
       "<style scoped>\n",
       "    .dataframe tbody tr th:only-of-type {\n",
       "        vertical-align: middle;\n",
       "    }\n",
       "\n",
       "    .dataframe tbody tr th {\n",
       "        vertical-align: top;\n",
       "    }\n",
       "\n",
       "    .dataframe thead th {\n",
       "        text-align: right;\n",
       "    }\n",
       "</style>\n",
       "<table border=\"1\" class=\"dataframe\">\n",
       "  <thead>\n",
       "    <tr style=\"text-align: right;\">\n",
       "      <th></th>\n",
       "      <th>id</th>\n",
       "      <th>text</th>\n",
       "      <th>palabras</th>\n",
       "      <th>nºcaracteres</th>\n",
       "      <th>target</th>\n",
       "    </tr>\n",
       "  </thead>\n",
       "  <tbody>\n",
       "    <tr>\n",
       "      <th>0</th>\n",
       "      <td>1</td>\n",
       "      <td>Our Deeds are the Reason of this #earthquake M...</td>\n",
       "      <td>[Our, Deeds, are, the, Reason, of, this, #eart...</td>\n",
       "      <td>69</td>\n",
       "      <td>1</td>\n",
       "    </tr>\n",
       "    <tr>\n",
       "      <th>1</th>\n",
       "      <td>4</td>\n",
       "      <td>Forest fire near La Ronge Sask. Canada</td>\n",
       "      <td>[Forest, fire, near, La, Ronge, Sask., Canada]</td>\n",
       "      <td>38</td>\n",
       "      <td>1</td>\n",
       "    </tr>\n",
       "    <tr>\n",
       "      <th>2</th>\n",
       "      <td>5</td>\n",
       "      <td>All residents asked to 'shelter in place' are ...</td>\n",
       "      <td>[All, residents, asked, to, 'shelter, in, plac...</td>\n",
       "      <td>133</td>\n",
       "      <td>1</td>\n",
       "    </tr>\n",
       "    <tr>\n",
       "      <th>3</th>\n",
       "      <td>6</td>\n",
       "      <td>13,000 people receive #wildfires evacuation or...</td>\n",
       "      <td>[13,000, people, receive, #wildfires, evacuati...</td>\n",
       "      <td>65</td>\n",
       "      <td>1</td>\n",
       "    </tr>\n",
       "    <tr>\n",
       "      <th>4</th>\n",
       "      <td>7</td>\n",
       "      <td>Just got sent this photo from Ruby #Alaska as ...</td>\n",
       "      <td>[Just, got, sent, this, photo, from, Ruby, #Al...</td>\n",
       "      <td>88</td>\n",
       "      <td>1</td>\n",
       "    </tr>\n",
       "  </tbody>\n",
       "</table>\n",
       "</div>"
      ],
      "text/plain": [
       "   id                                               text  \\\n",
       "0   1  Our Deeds are the Reason of this #earthquake M...   \n",
       "1   4             Forest fire near La Ronge Sask. Canada   \n",
       "2   5  All residents asked to 'shelter in place' are ...   \n",
       "3   6  13,000 people receive #wildfires evacuation or...   \n",
       "4   7  Just got sent this photo from Ruby #Alaska as ...   \n",
       "\n",
       "                                            palabras  nºcaracteres  target  \n",
       "0  [Our, Deeds, are, the, Reason, of, this, #eart...            69       1  \n",
       "1     [Forest, fire, near, La, Ronge, Sask., Canada]            38       1  \n",
       "2  [All, residents, asked, to, 'shelter, in, plac...           133       1  \n",
       "3  [13,000, people, receive, #wildfires, evacuati...            65       1  \n",
       "4  [Just, got, sent, this, photo, from, Ruby, #Al...            88       1  "
      ]
     },
     "execution_count": 11,
     "metadata": {},
     "output_type": "execute_result"
    }
   ],
   "source": [
    "tweets.head()"
   ]
  },
  {
   "cell_type": "markdown",
   "metadata": {},
   "source": [
    "#### Me interesa saber cuantas palabras tiene que cada tweet."
   ]
  },
  {
   "cell_type": "code",
   "execution_count": 12,
   "metadata": {},
   "outputs": [
    {
     "data": {
      "text/plain": [
       "pandas.core.series.Series"
      ]
     },
     "execution_count": 12,
     "metadata": {},
     "output_type": "execute_result"
    }
   ],
   "source": [
    "type(tweets['palabras'])"
   ]
  },
  {
   "cell_type": "markdown",
   "metadata": {},
   "source": [
    "#### Guardo la cantidad de palabras en una nueva columna"
   ]
  },
  {
   "cell_type": "code",
   "execution_count": 13,
   "metadata": {},
   "outputs": [],
   "source": [
    "lista_auxiliar = []\n",
    "for i in tweets['palabras']:\n",
    "    lista_auxiliar.append( len(i) )"
   ]
  },
  {
   "cell_type": "code",
   "execution_count": 14,
   "metadata": {},
   "outputs": [],
   "source": [
    "tweets['nºpalabras'] = lista_auxiliar"
   ]
  },
  {
   "cell_type": "code",
   "execution_count": 15,
   "metadata": {
    "scrolled": true
   },
   "outputs": [
    {
     "data": {
      "text/html": [
       "<div>\n",
       "<style scoped>\n",
       "    .dataframe tbody tr th:only-of-type {\n",
       "        vertical-align: middle;\n",
       "    }\n",
       "\n",
       "    .dataframe tbody tr th {\n",
       "        vertical-align: top;\n",
       "    }\n",
       "\n",
       "    .dataframe thead th {\n",
       "        text-align: right;\n",
       "    }\n",
       "</style>\n",
       "<table border=\"1\" class=\"dataframe\">\n",
       "  <thead>\n",
       "    <tr style=\"text-align: right;\">\n",
       "      <th></th>\n",
       "      <th>id</th>\n",
       "      <th>text</th>\n",
       "      <th>palabras</th>\n",
       "      <th>nºcaracteres</th>\n",
       "      <th>target</th>\n",
       "      <th>nºpalabras</th>\n",
       "    </tr>\n",
       "  </thead>\n",
       "  <tbody>\n",
       "    <tr>\n",
       "      <th>0</th>\n",
       "      <td>1</td>\n",
       "      <td>Our Deeds are the Reason of this #earthquake M...</td>\n",
       "      <td>[Our, Deeds, are, the, Reason, of, this, #eart...</td>\n",
       "      <td>69</td>\n",
       "      <td>1</td>\n",
       "      <td>13</td>\n",
       "    </tr>\n",
       "    <tr>\n",
       "      <th>1</th>\n",
       "      <td>4</td>\n",
       "      <td>Forest fire near La Ronge Sask. Canada</td>\n",
       "      <td>[Forest, fire, near, La, Ronge, Sask., Canada]</td>\n",
       "      <td>38</td>\n",
       "      <td>1</td>\n",
       "      <td>7</td>\n",
       "    </tr>\n",
       "    <tr>\n",
       "      <th>2</th>\n",
       "      <td>5</td>\n",
       "      <td>All residents asked to 'shelter in place' are ...</td>\n",
       "      <td>[All, residents, asked, to, 'shelter, in, plac...</td>\n",
       "      <td>133</td>\n",
       "      <td>1</td>\n",
       "      <td>22</td>\n",
       "    </tr>\n",
       "    <tr>\n",
       "      <th>3</th>\n",
       "      <td>6</td>\n",
       "      <td>13,000 people receive #wildfires evacuation or...</td>\n",
       "      <td>[13,000, people, receive, #wildfires, evacuati...</td>\n",
       "      <td>65</td>\n",
       "      <td>1</td>\n",
       "      <td>8</td>\n",
       "    </tr>\n",
       "    <tr>\n",
       "      <th>4</th>\n",
       "      <td>7</td>\n",
       "      <td>Just got sent this photo from Ruby #Alaska as ...</td>\n",
       "      <td>[Just, got, sent, this, photo, from, Ruby, #Al...</td>\n",
       "      <td>88</td>\n",
       "      <td>1</td>\n",
       "      <td>16</td>\n",
       "    </tr>\n",
       "  </tbody>\n",
       "</table>\n",
       "</div>"
      ],
      "text/plain": [
       "   id                                               text  \\\n",
       "0   1  Our Deeds are the Reason of this #earthquake M...   \n",
       "1   4             Forest fire near La Ronge Sask. Canada   \n",
       "2   5  All residents asked to 'shelter in place' are ...   \n",
       "3   6  13,000 people receive #wildfires evacuation or...   \n",
       "4   7  Just got sent this photo from Ruby #Alaska as ...   \n",
       "\n",
       "                                            palabras  nºcaracteres  target  \\\n",
       "0  [Our, Deeds, are, the, Reason, of, this, #eart...            69       1   \n",
       "1     [Forest, fire, near, La, Ronge, Sask., Canada]            38       1   \n",
       "2  [All, residents, asked, to, 'shelter, in, plac...           133       1   \n",
       "3  [13,000, people, receive, #wildfires, evacuati...            65       1   \n",
       "4  [Just, got, sent, this, photo, from, Ruby, #Al...            88       1   \n",
       "\n",
       "   nºpalabras  \n",
       "0          13  \n",
       "1           7  \n",
       "2          22  \n",
       "3           8  \n",
       "4          16  "
      ]
     },
     "execution_count": 15,
     "metadata": {},
     "output_type": "execute_result"
    }
   ],
   "source": [
    "tweets.head()"
   ]
  },
  {
   "cell_type": "markdown",
   "metadata": {},
   "source": [
    "#### Guardo en cada tweet la cantidad de "
   ]
  },
  {
   "cell_type": "markdown",
   "metadata": {},
   "source": [
    "#### Reordeno"
   ]
  },
  {
   "cell_type": "code",
   "execution_count": 16,
   "metadata": {},
   "outputs": [],
   "source": [
    "tweets = tweets[['id','text','palabras','nºcaracteres','nºpalabras','target']]"
   ]
  },
  {
   "cell_type": "code",
   "execution_count": 17,
   "metadata": {
    "scrolled": true
   },
   "outputs": [
    {
     "data": {
      "text/html": [
       "<div>\n",
       "<style scoped>\n",
       "    .dataframe tbody tr th:only-of-type {\n",
       "        vertical-align: middle;\n",
       "    }\n",
       "\n",
       "    .dataframe tbody tr th {\n",
       "        vertical-align: top;\n",
       "    }\n",
       "\n",
       "    .dataframe thead th {\n",
       "        text-align: right;\n",
       "    }\n",
       "</style>\n",
       "<table border=\"1\" class=\"dataframe\">\n",
       "  <thead>\n",
       "    <tr style=\"text-align: right;\">\n",
       "      <th></th>\n",
       "      <th>id</th>\n",
       "      <th>text</th>\n",
       "      <th>palabras</th>\n",
       "      <th>nºcaracteres</th>\n",
       "      <th>nºpalabras</th>\n",
       "      <th>target</th>\n",
       "    </tr>\n",
       "  </thead>\n",
       "  <tbody>\n",
       "    <tr>\n",
       "      <th>0</th>\n",
       "      <td>1</td>\n",
       "      <td>Our Deeds are the Reason of this #earthquake M...</td>\n",
       "      <td>[Our, Deeds, are, the, Reason, of, this, #eart...</td>\n",
       "      <td>69</td>\n",
       "      <td>13</td>\n",
       "      <td>1</td>\n",
       "    </tr>\n",
       "    <tr>\n",
       "      <th>1</th>\n",
       "      <td>4</td>\n",
       "      <td>Forest fire near La Ronge Sask. Canada</td>\n",
       "      <td>[Forest, fire, near, La, Ronge, Sask., Canada]</td>\n",
       "      <td>38</td>\n",
       "      <td>7</td>\n",
       "      <td>1</td>\n",
       "    </tr>\n",
       "    <tr>\n",
       "      <th>2</th>\n",
       "      <td>5</td>\n",
       "      <td>All residents asked to 'shelter in place' are ...</td>\n",
       "      <td>[All, residents, asked, to, 'shelter, in, plac...</td>\n",
       "      <td>133</td>\n",
       "      <td>22</td>\n",
       "      <td>1</td>\n",
       "    </tr>\n",
       "    <tr>\n",
       "      <th>3</th>\n",
       "      <td>6</td>\n",
       "      <td>13,000 people receive #wildfires evacuation or...</td>\n",
       "      <td>[13,000, people, receive, #wildfires, evacuati...</td>\n",
       "      <td>65</td>\n",
       "      <td>8</td>\n",
       "      <td>1</td>\n",
       "    </tr>\n",
       "    <tr>\n",
       "      <th>4</th>\n",
       "      <td>7</td>\n",
       "      <td>Just got sent this photo from Ruby #Alaska as ...</td>\n",
       "      <td>[Just, got, sent, this, photo, from, Ruby, #Al...</td>\n",
       "      <td>88</td>\n",
       "      <td>16</td>\n",
       "      <td>1</td>\n",
       "    </tr>\n",
       "  </tbody>\n",
       "</table>\n",
       "</div>"
      ],
      "text/plain": [
       "   id                                               text  \\\n",
       "0   1  Our Deeds are the Reason of this #earthquake M...   \n",
       "1   4             Forest fire near La Ronge Sask. Canada   \n",
       "2   5  All residents asked to 'shelter in place' are ...   \n",
       "3   6  13,000 people receive #wildfires evacuation or...   \n",
       "4   7  Just got sent this photo from Ruby #Alaska as ...   \n",
       "\n",
       "                                            palabras  nºcaracteres  \\\n",
       "0  [Our, Deeds, are, the, Reason, of, this, #eart...            69   \n",
       "1     [Forest, fire, near, La, Ronge, Sask., Canada]            38   \n",
       "2  [All, residents, asked, to, 'shelter, in, plac...           133   \n",
       "3  [13,000, people, receive, #wildfires, evacuati...            65   \n",
       "4  [Just, got, sent, this, photo, from, Ruby, #Al...            88   \n",
       "\n",
       "   nºpalabras  target  \n",
       "0          13       1  \n",
       "1           7       1  \n",
       "2          22       1  \n",
       "3           8       1  \n",
       "4          16       1  "
      ]
     },
     "execution_count": 17,
     "metadata": {},
     "output_type": "execute_result"
    }
   ],
   "source": [
    "tweets.head()"
   ]
  },
  {
   "cell_type": "markdown",
   "metadata": {},
   "source": [
    "#### Ya tengo bastante ordenado el data frame. Procedo a analizar."
   ]
  },
  {
   "cell_type": "markdown",
   "metadata": {},
   "source": [
    "#### Me interesa ver si hay una relacion entre el largo del tweet en palabra y el largo en caracteres. Hago spotter"
   ]
  },
  {
   "cell_type": "code",
   "execution_count": 18,
   "metadata": {},
   "outputs": [],
   "source": [
    "tweets_largo = tweets.filter(items=['nºcaracteres', 'nºpalabras', 'target'])"
   ]
  },
  {
   "cell_type": "code",
   "execution_count": 19,
   "metadata": {
    "scrolled": true
   },
   "outputs": [
    {
     "data": {
      "text/html": [
       "<div>\n",
       "<style scoped>\n",
       "    .dataframe tbody tr th:only-of-type {\n",
       "        vertical-align: middle;\n",
       "    }\n",
       "\n",
       "    .dataframe tbody tr th {\n",
       "        vertical-align: top;\n",
       "    }\n",
       "\n",
       "    .dataframe thead th {\n",
       "        text-align: right;\n",
       "    }\n",
       "</style>\n",
       "<table border=\"1\" class=\"dataframe\">\n",
       "  <thead>\n",
       "    <tr style=\"text-align: right;\">\n",
       "      <th></th>\n",
       "      <th>nºcaracteres</th>\n",
       "      <th>nºpalabras</th>\n",
       "      <th>target</th>\n",
       "    </tr>\n",
       "  </thead>\n",
       "  <tbody>\n",
       "    <tr>\n",
       "      <th>0</th>\n",
       "      <td>69</td>\n",
       "      <td>13</td>\n",
       "      <td>1</td>\n",
       "    </tr>\n",
       "    <tr>\n",
       "      <th>1</th>\n",
       "      <td>38</td>\n",
       "      <td>7</td>\n",
       "      <td>1</td>\n",
       "    </tr>\n",
       "    <tr>\n",
       "      <th>2</th>\n",
       "      <td>133</td>\n",
       "      <td>22</td>\n",
       "      <td>1</td>\n",
       "    </tr>\n",
       "    <tr>\n",
       "      <th>3</th>\n",
       "      <td>65</td>\n",
       "      <td>8</td>\n",
       "      <td>1</td>\n",
       "    </tr>\n",
       "    <tr>\n",
       "      <th>4</th>\n",
       "      <td>88</td>\n",
       "      <td>16</td>\n",
       "      <td>1</td>\n",
       "    </tr>\n",
       "  </tbody>\n",
       "</table>\n",
       "</div>"
      ],
      "text/plain": [
       "   nºcaracteres  nºpalabras  target\n",
       "0            69          13       1\n",
       "1            38           7       1\n",
       "2           133          22       1\n",
       "3            65           8       1\n",
       "4            88          16       1"
      ]
     },
     "execution_count": 19,
     "metadata": {},
     "output_type": "execute_result"
    }
   ],
   "source": [
    "tweets_largo.head()"
   ]
  },
  {
   "cell_type": "markdown",
   "metadata": {},
   "source": [
    "#### Procedo a hacer un scatter entre ambos."
   ]
  },
  {
   "cell_type": "code",
   "execution_count": 20,
   "metadata": {},
   "outputs": [
    {
     "data": {
      "image/png": "[encoded data removed]",
      "text/plain": [
       "<Figure size 864x576 with 1 Axes>"
      ]
     },
     "metadata": {
      "needs_background": "light"
     },
     "output_type": "display_data"
    }
   ],
   "source": [
    "color = cmap(0.7)\n",
    "tweets_largo.plot.scatter('nºcaracteres','nºpalabras', title='Relacion entre cantidad de caracteres y palabras',alpha=0.25,figsize=(12,8), color = color);\n",
    "ax=plt.gca()\n",
    "ax.set_xlabel('Cantidad de caracteres')\n",
    "ax.set_ylabel('Cantidad de palabras');"
   ]
  },
  {
   "cell_type": "markdown",
   "metadata": {},
   "source": [
    "#### se observa lo esperado"
   ]
  },
  {
   "cell_type": "markdown",
   "metadata": {},
   "source": [
    "#### Relacion entre veracidad y largo en caracteres."
   ]
  },
  {
   "cell_type": "code",
   "execution_count": 61,
   "metadata": {},
   "outputs": [
    {
     "data": {
      "image/png": "[encoded data removed]",
      "text/plain": [
       "<Figure size 1080x720 with 1 Axes>"
      ]
     },
     "metadata": {
      "needs_background": "light"
     },
     "output_type": "display_data"
    }
   ],
   "source": [
    "colores = cmap([0.7,0.4])\n",
    "tweets_verd = tweets_largo[tweets_largo['target']==True]['nºcaracteres']\n",
    "tweets_falsos = tweets_largo[tweets_largo['target']==False]['nºcaracteres']\n",
    "\n",
    "promedio = tweets_largo['nºcaracteres'].mean()    \n",
    "promedio_verd = tweets_largo[tweets_largo['target']==1]['nºcaracteres'].mean()\n",
    "promedio_falsos = tweets_largo[tweets_largo['target']==0]['nºcaracteres'].mean()\n",
    "plt.figure(figsize=(15,10))\n",
    "# histogram\n",
    "plt.hist([tweets_verd, tweets_falsos], bins=50, color=[colores[0], colores[1]], \\\n",
    "                label=['Tratan sobre un desastre', \"No tratan sobre un desastre\"])    \n",
    "plt.vlines(x=promedio, ymin=0, ymax=600, color='black', \\\n",
    "                   alpha=0.6, linestyle = '--', label='Longitud promedio de todos los tweets')\n",
    "plt.vlines(x=promedio_verd, ymin=0, ymax=600, color=colores[0], \\\n",
    "                   alpha=0.6, linestyle = '--', label='Longitud promedio de tweets sobre un desastre')\n",
    "plt.vlines(x=promedio_falsos, ymin=0, ymax=600, color=colores[1], \\\n",
    "                   alpha=0.6, linestyle = '--', label='Longitud promedio de tweets que no son sobre desastre')\n",
    "plt.xlim(0, 165)\n",
    "plt.ylim(0, 600)\n",
    "plt.text(promedio, 450, str(np.round(promedio, 1)), color='black', fontweight='bold', fontsize=10, rotation=270)\n",
    "plt.text(promedio_verd, 450, str(np.round(promedio_verd, 1)), color=colores[0], fontweight='bold', fontsize=10, rotation=270)\n",
    "plt.text(promedio_falsos, 450, str(np.round(promedio_falsos, 1)), color=colores[1], fontweight='bold', fontsize=10, rotation=270)\n",
    "plt.title(\"Cantidad de tweets según longitud (en caracteres)\", weight='bold', size=20, pad=30)\n",
    "plt.ylabel(\"Frecuencia\", labelpad=20, weight='bold', size=16)\n",
    "plt.xlabel(\"Longitud (en caracteres)\",labelpad=20, weight='bold', size=16)\n",
    "plt.legend(prop={'size': 10})\n",
    "plt.grid(b=True, axis='y', linestyle='--')"
   ]
  },
  {
   "cell_type": "markdown",
   "metadata": {},
   "source": [
    "#### Hago lo mismo pero con palabras"
   ]
  },
  {
   "cell_type": "code",
   "execution_count": null,
   "metadata": {},
   "outputs": [],
   "source": [
    "tweets_largo['intervalo de palabras']=pd.cut(tweets_largo['nºpalabras'], bins=[0,5,10,15,20,25,31], include_lowest=True)\n",
    "\n",
    "tweets_largo"
   ]
  },
  {
   "cell_type": "code",
   "execution_count": null,
   "metadata": {},
   "outputs": [],
   "source": [
    "tweets_largo = tweets_largo.groupby(['intervalo de palabras']).agg({'target':['mean','count','sum']})"
   ]
  },
  {
   "cell_type": "code",
   "execution_count": null,
   "metadata": {},
   "outputs": [],
   "source": [
    "level0 = tweets_largo.columns.get_level_values(0)\n",
    "level1 = tweets_largo.columns.get_level_values(1)\n",
    "tweets_largo.columns = level0 + '_' + level1"
   ]
  },
  {
   "cell_type": "code",
   "execution_count": null,
   "metadata": {
    "scrolled": true
   },
   "outputs": [],
   "source": [
    "tweets_largo"
   ]
  },
  {
   "cell_type": "code",
   "execution_count": null,
   "metadata": {},
   "outputs": [],
   "source": []
  },
  {
   "cell_type": "code",
   "execution_count": null,
   "metadata": {},
   "outputs": [],
   "source": [
    "tweets_largo.rename({'target_mean': 'ratio_veraces', 'target_count': 'tweets totales','target_sum':'Tratan sobre un desastre'}, axis=1, inplace=True)"
   ]
  },
  {
   "cell_type": "code",
   "execution_count": null,
   "metadata": {},
   "outputs": [],
   "source": [
    "tweets_largo['No tratan sobre un desastre'] = tweets_largo['tweets totales'] - tweets_largo['Tratan sobre un desastre']"
   ]
  },
  {
   "cell_type": "code",
   "execution_count": null,
   "metadata": {
    "scrolled": false
   },
   "outputs": [],
   "source": [
    "tweets_largo"
   ]
  },
  {
   "cell_type": "code",
   "execution_count": null,
   "metadata": {
    "scrolled": false
   },
   "outputs": [],
   "source": [
    "del tweets_largo['ratio_veraces']\n",
    "del tweets_largo ['tweets totales']\n",
    "tweets_largo"
   ]
  },
  {
   "cell_type": "code",
   "execution_count": null,
   "metadata": {
    "scrolled": false
   },
   "outputs": [],
   "source": [
    "colores = cmap([0.7,0.4])\n",
    "barra_duo = tweets_largo.plot.bar(color=colores,figsize = (20,10))\n",
    "barra_duo.set_title(\"Cantidad de tweets agrupados por el numero de palabras que contienen\",fontsize = 22)\n",
    "barra_duo.set_xlabel(\"Cantidad de palabras\", fontsize = 18)\n",
    "barra_duo.set_ylabel(\"Cantidad tweets\", fontsize = 18)\n",
    "plt.xticks(fontsize=20, rotation=0)\n",
    "plt.yticks(fontsize=20)\n",
    "barra_duo.set_xticklabels( [\"(0,5]\",\"(5,10]\",\"(10,15]\",\"(15,20]\",\"(20,25]\",\"(25,31]\"] );\n",
    "barra_duo.legend(fontsize = 12)"
   ]
  },
  {
   "cell_type": "markdown",
   "metadata": {},
   "source": [
    "## Palabras que tienen mas ocurrencias en tweets."
   ]
  },
  {
   "cell_type": "markdown",
   "metadata": {},
   "source": [
    "#### Procedo a crear un nuevo dataframe, donde levanto cada palabra junto con su target y id de tweet."
   ]
  },
  {
   "cell_type": "code",
   "execution_count": null,
   "metadata": {
    "scrolled": true
   },
   "outputs": [],
   "source": [
    "palabras = tweets.explode('palabras')\n",
    "del(palabras['text'])\n",
    "del(palabras['nºcaracteres'])\n",
    "del(palabras['nºpalabras'])\n",
    "palabras.rename({'palabras': 'palabra', 'id': 'id_tweet','target': 'target_tweet' }, axis=1, inplace=True)\n",
    "palabras.reset_index(inplace = True, drop = True)\n",
    "palabras.head()"
   ]
  },
  {
   "cell_type": "code",
   "execution_count": null,
   "metadata": {},
   "outputs": [],
   "source": [
    "palabras.info()"
   ]
  },
  {
   "cell_type": "markdown",
   "metadata": {},
   "source": [
    "#### En el analisis no voy a discrimnar por mayusculas, paso todo a minuscula."
   ]
  },
  {
   "cell_type": "code",
   "execution_count": null,
   "metadata": {},
   "outputs": [],
   "source": [
    "palabras['palabra'] = palabras['palabra'].str.lower()\n",
    "palabras.head()"
   ]
  },
  {
   "cell_type": "markdown",
   "metadata": {},
   "source": [
    "#### Hay casos donde la palabra empieza con un caracter especial, ejemplo de #."
   ]
  },
  {
   "cell_type": "code",
   "execution_count": null,
   "metadata": {},
   "outputs": [],
   "source": [
    "palabras.iloc[7]"
   ]
  },
  {
   "cell_type": "markdown",
   "metadata": {},
   "source": [
    "#### Yo quiero eliminar dichos caracteres, ya que en el caso que se encuentren \"\"#earthquake\" y \"earthquake\" busco que cuenten como la misma palabra. "
   ]
  },
  {
   "cell_type": "code",
   "execution_count": null,
   "metadata": {},
   "outputs": [],
   "source": [
    "import re\n",
    "palabras_limpias = []\n",
    "for palabra in palabras['palabra']:\n",
    "    palabra_limpia = re.sub('[^A-Za-z0-9]+','', palabra)\n",
    "    palabras_limpias.append(palabra_limpia)"
   ]
  },
  {
   "cell_type": "code",
   "execution_count": null,
   "metadata": {},
   "outputs": [],
   "source": [
    "palabras['palabra']=palabras_limpias"
   ]
  },
  {
   "cell_type": "code",
   "execution_count": null,
   "metadata": {},
   "outputs": [],
   "source": [
    "palabras.iloc[7]"
   ]
  },
  {
   "cell_type": "markdown",
   "metadata": {},
   "source": [
    "#### Ahora ya borramos los caracteres especiales, el siguiente paso es borrar las palabras que aparecen 2 veces en un tweet. Esto es para que las ocurrencias no cuenten doble.\n"
   ]
  },
  {
   "cell_type": "code",
   "execution_count": null,
   "metadata": {},
   "outputs": [],
   "source": [
    "palabras.info()"
   ]
  },
  {
   "cell_type": "code",
   "execution_count": null,
   "metadata": {},
   "outputs": [],
   "source": [
    "palabras.drop_duplicates(subset=['palabra','id_tweet'], keep=\"first\", inplace = True)\n",
    "palabras.reset_index(inplace = True, drop = True)"
   ]
  },
  {
   "cell_type": "code",
   "execution_count": null,
   "metadata": {},
   "outputs": [],
   "source": [
    "palabras.info()"
   ]
  },
  {
   "cell_type": "markdown",
   "metadata": {},
   "source": [
    "#### Ya fueron eliminadas las palabras repetidas de cada tweet, todo listo para el analisis"
   ]
  },
  {
   "cell_type": "code",
   "execution_count": null,
   "metadata": {
    "scrolled": true
   },
   "outputs": [],
   "source": [
    "agrupadas=palabras.groupby(['palabra']).agg({'target_tweet':['mean','count','sum']})\n",
    "agrupadas.sample(3)"
   ]
  },
  {
   "cell_type": "code",
   "execution_count": null,
   "metadata": {},
   "outputs": [],
   "source": [
    "agrupadas.info()"
   ]
  },
  {
   "cell_type": "markdown",
   "metadata": {},
   "source": [
    "#### En este caso sum son las veces que la palabra aparece en tweets veridicos.(ya que el true esta representado con un uno)"
   ]
  },
  {
   "cell_type": "markdown",
   "metadata": {},
   "source": [
    "#### Aplano el level de las columnas."
   ]
  },
  {
   "cell_type": "code",
   "execution_count": null,
   "metadata": {},
   "outputs": [],
   "source": [
    "level0 = agrupadas.columns.get_level_values(0)\n",
    "level1 = agrupadas.columns.get_level_values(1)\n",
    "agrupadas.columns = level0 + '_' + level1"
   ]
  },
  {
   "cell_type": "code",
   "execution_count": null,
   "metadata": {
    "scrolled": true
   },
   "outputs": [],
   "source": [
    "agrupadas.sample(3)"
   ]
  },
  {
   "cell_type": "markdown",
   "metadata": {},
   "source": [
    "#### Renombro "
   ]
  },
  {
   "cell_type": "code",
   "execution_count": null,
   "metadata": {},
   "outputs": [],
   "source": [
    "agrupadas.rename({'target_tweet_mean': 'porcentaje_veraces', 'target_tweet_count': 'apariciones_totales','target_tweet_sum':'apariciones_veraces'}, axis=1, inplace=True)"
   ]
  },
  {
   "cell_type": "code",
   "execution_count": null,
   "metadata": {},
   "outputs": [],
   "source": [
    "agrupadas.sample(3)"
   ]
  },
  {
   "cell_type": "markdown",
   "metadata": {},
   "source": [
    "#### Transformo el ratio en porcentaje"
   ]
  },
  {
   "cell_type": "code",
   "execution_count": null,
   "metadata": {},
   "outputs": [],
   "source": [
    "agrupadas['porcentaje_veraces'] = agrupadas['porcentaje_veraces']*100"
   ]
  },
  {
   "cell_type": "code",
   "execution_count": null,
   "metadata": {
    "scrolled": false
   },
   "outputs": [],
   "source": [
    "agrupadas.sample(3)"
   ]
  },
  {
   "cell_type": "markdown",
   "metadata": {},
   "source": [
    "##### Agrego una columna de apariciones_falaces"
   ]
  },
  {
   "cell_type": "code",
   "execution_count": null,
   "metadata": {},
   "outputs": [],
   "source": [
    "agrupadas['apariciones_falaces'] = (agrupadas['apariciones_totales'] - agrupadas['apariciones_veraces'])"
   ]
  },
  {
   "cell_type": "code",
   "execution_count": null,
   "metadata": {},
   "outputs": [],
   "source": [
    "agrupadas.sample(3)"
   ]
  },
  {
   "cell_type": "markdown",
   "metadata": {},
   "source": [
    "#### Considero que las palabras que aparecen menos del 0.2% de los tweets son irrelevantes para este analisis. Suelen ser 'one hit'"
   ]
  },
  {
   "cell_type": "code",
   "execution_count": null,
   "metadata": {},
   "outputs": [],
   "source": [
    "agrupadas.info() #palabras previo a filtrar"
   ]
  },
  {
   "cell_type": "code",
   "execution_count": null,
   "metadata": {},
   "outputs": [],
   "source": [
    "minimo_de_ocurrencias = (0.2/100)*len(tweets.index)\n",
    "minimo_de_ocurrencias"
   ]
  },
  {
   "cell_type": "code",
   "execution_count": null,
   "metadata": {},
   "outputs": [],
   "source": [
    "agrupadas = agrupadas.loc[agrupadas[('apariciones_totales')]>minimo_de_ocurrencias,:]"
   ]
  },
  {
   "cell_type": "code",
   "execution_count": null,
   "metadata": {},
   "outputs": [],
   "source": [
    "agrupadas.info() #palabras despues de filtrar"
   ]
  },
  {
   "cell_type": "code",
   "execution_count": null,
   "metadata": {},
   "outputs": [],
   "source": [
    "#### Cuales son las palabras que mas se repiten?"
   ]
  },
  {
   "cell_type": "code",
   "execution_count": null,
   "metadata": {},
   "outputs": [],
   "source": [
    "agrupadas.sort_values(by=['apariciones_totales'], ascending=[False], inplace = True)"
   ]
  },
  {
   "cell_type": "code",
   "execution_count": null,
   "metadata": {
    "scrolled": true
   },
   "outputs": [],
   "source": [
    "agrupadas.head(7)"
   ]
  },
  {
   "cell_type": "code",
   "execution_count": null,
   "metadata": {
    "scrolled": true
   },
   "outputs": [],
   "source": [
    "####dropeo los espacio en blanco\n",
    "agrupadas = agrupadas.drop('')\n",
    "agrupadas.head(100)\n",
    "len(agrupadas)"
   ]
  },
  {
   "cell_type": "markdown",
   "metadata": {},
   "source": [
    "#### Grafico las 30 palabras mas repetidas"
   ]
  },
  {
   "cell_type": "code",
   "execution_count": null,
   "metadata": {},
   "outputs": [],
   "source": [
    "agrupadas_mas_repetidas = agrupadas.head(30)"
   ]
  },
  {
   "cell_type": "code",
   "execution_count": null,
   "metadata": {
    "scrolled": false
   },
   "outputs": [],
   "source": [
    "saltos = np.linspace(0.3, 0.9, 30)\n",
    "colores = cmap(saltos)\n",
    "\n",
    "maximo = agrupadas_mas_repetidas['apariciones_totales'].max()\n",
    "\n",
    "grafico = agrupadas_mas_repetidas.sort_values(\"apariciones_totales\").plot(kind='barh', figsize=(14,12), y ='apariciones_totales', color=colores, width=0.75, fontsize = 18)\n",
    "\n",
    "plt.xticks(np.arange(0, maximo+1, 100), rotation=35,fontsize=14,ha='right')\n",
    "plt.tick_params(axis='y', length=0)\n",
    "\n",
    "grafico.spines['right'].set_visible(False)\n",
    "grafico.spines['top'].set_visible(False)\n",
    "grafico.spines['left'].set_visible(False)\n",
    "grafico.spines['bottom'].set_visible(False)\n",
    "\n",
    "lineas = grafico.get_xticks()\n",
    "for i in lineas:\n",
    "      grafico.axvline(x=i, linestyle='--', alpha=0.4, color='#eeeeee')\n",
    "        \n",
    "grafico.set_xlabel(\"Repeticiones\", labelpad=20, weight='bold', size=16)\n",
    "grafico.set_ylabel(\"Palabra\", labelpad=20, weight='bold', size=16)\n",
    "\n",
    "plt.title(\"30 palabras mas repetidas\", weight='bold', size=20, pad=15)\n",
    "grafico.legend(fontsize = 15)"
   ]
  },
  {
   "cell_type": "code",
   "execution_count": null,
   "metadata": {},
   "outputs": [],
   "source": [
    "agrupadas_sin_preposiciones = agrupadas.copy()"
   ]
  },
  {
   "cell_type": "code",
   "execution_count": null,
   "metadata": {},
   "outputs": [],
   "source": [
    "agrupadas_sin_preposiciones.head()"
   ]
  },
  {
   "cell_type": "code",
   "execution_count": null,
   "metadata": {},
   "outputs": [],
   "source": [
    "stopwords = list(STOPWORDS)\n",
    "palabras = agrupadas_sin_preposiciones.index.tolist()"
   ]
  },
  {
   "cell_type": "code",
   "execution_count": null,
   "metadata": {},
   "outputs": [],
   "source": [
    "es_stop = []\n",
    "for palabra in palabras:\n",
    "    es_stop.append( palabra not in stopwords )\n",
    "\n",
    "agrupadas_sin_preposiciones = agrupadas_sin_preposiciones.iloc[es_stop]\n",
    "agrupadas_sin_preposiciones.head()"
   ]
  },
  {
   "cell_type": "code",
   "execution_count": null,
   "metadata": {},
   "outputs": [],
   "source": [
    "agrupadas_sin_preposiciones = agrupadas_sin_preposiciones.head(30) ### me quedo con las primeras 30\n",
    "agrupadas_sin_preposiciones.head(2)"
   ]
  },
  {
   "cell_type": "markdown",
   "metadata": {},
   "source": [
    "#### sin preposiciones mas repetidas"
   ]
  },
  {
   "cell_type": "code",
   "execution_count": null,
   "metadata": {},
   "outputs": [],
   "source": [
    "saltos = np.linspace(0.3, 0.9, 30)\n",
    "colores = cmap(saltos)\n",
    "\n",
    "maximo = agrupadas_sin_preposiciones['apariciones_totales'].max()\n",
    "\n",
    "grafico = agrupadas_sin_preposiciones.sort_values(\"apariciones_totales\").plot(kind='barh', figsize=(14,12), y ='apariciones_totales', color=colores, width=0.75, fontsize = 18)\n",
    "\n",
    "plt.xticks(np.arange(0, maximo+1, 10), rotation=35,fontsize=14,ha='right')\n",
    "plt.tick_params(axis='y', length=0)\n",
    "\n",
    "grafico.spines['right'].set_visible(False)\n",
    "grafico.spines['top'].set_visible(False)\n",
    "grafico.spines['left'].set_visible(False)\n",
    "grafico.spines['bottom'].set_visible(False)\n",
    "\n",
    "lineas = grafico.get_xticks()\n",
    "for i in lineas:\n",
    "      grafico.axvline(x=i, linestyle='--', alpha=0.4, color='#eeeeee')\n",
    "        \n",
    "grafico.set_xlabel(\"Repeticiones\", labelpad=20, weight='bold', size=16)\n",
    "grafico.set_ylabel(\"Palabra\", labelpad=20, weight='bold', size=16)\n",
    "\n",
    "plt.title(\"30 palabras mas repetidas (sin preposiciones)\", weight='bold', size=20, pad=15)\n",
    "grafico.legend(fontsize = 15)"
   ]
  },
  {
   "cell_type": "markdown",
   "metadata": {},
   "source": [
    "##### veracidad de las palabras mas repetidas."
   ]
  },
  {
   "cell_type": "code",
   "execution_count": null,
   "metadata": {},
   "outputs": [],
   "source": [
    "saltos = np.linspace(0.4, 0.7, 30)\n",
    "colores = cmap(saltos)\n",
    "\n",
    "#maximo = agrupadas_mas_repetidas['apariciones_totales'].max()\n",
    "maximo = 100\n",
    "\n",
    "grafico = agrupadas_mas_repetidas.sort_values(\"porcentaje_veraces\").plot(kind='barh', figsize=(14,12), y ='porcentaje_veraces', color=colores, width=0.75, fontsize = 18)\n",
    "\n",
    "plt.xticks(np.arange(0, maximo+1, 5), rotation=35,fontsize=14,ha='right')\n",
    "plt.tick_params(axis='y', length=0)\n",
    "\n",
    "grafico.spines['right'].set_visible(False)\n",
    "grafico.spines['top'].set_visible(False)\n",
    "grafico.spines['left'].set_visible(False)\n",
    "grafico.spines['bottom'].set_visible(False)\n",
    "\n",
    "lineas = grafico.get_xticks()\n",
    "for i in lineas:\n",
    "      grafico.axvline(x=i, linestyle='--', alpha=0.4, color='#eeeeee')\n",
    "        \n",
    "grafico.set_xlabel(\"Repeticiones\", labelpad=20, weight='bold', size=16)\n",
    "grafico.set_ylabel(\"Palabra\", labelpad=20, weight='bold', size=16)\n",
    "\n",
    "plt.title(\"Veracidad de las 30 palabras mas repetidas\", weight='bold', size=20, pad=15)\n",
    "grafico.legend(fontsize = 15)"
   ]
  },
  {
   "cell_type": "markdown",
   "metadata": {},
   "source": [
    "#### veracidad de mas repetidas sin preposiciones"
   ]
  },
  {
   "cell_type": "code",
   "execution_count": null,
   "metadata": {},
   "outputs": [],
   "source": [
    "saltos = np.linspace(0.4, 0.7, 30)\n",
    "colores = cmap(saltos)\n",
    "\n",
    "#maximo = agrupadas_mas_repetidas['apariciones_totales'].max()\n",
    "maximo = 100\n",
    "\n",
    "grafico = agrupadas_sin_preposiciones.sort_values(\"porcentaje_veraces\").plot(kind='barh', figsize=(14,12), y ='porcentaje_veraces', color=colores, width=0.75, fontsize = 18)\n",
    "\n",
    "plt.xticks(np.arange(0, maximo+1, 5), rotation=35,fontsize=14,ha='right')\n",
    "plt.tick_params(axis='y', length=0)\n",
    "\n",
    "grafico.spines['right'].set_visible(False)\n",
    "grafico.spines['top'].set_visible(False)\n",
    "grafico.spines['left'].set_visible(False)\n",
    "grafico.spines['bottom'].set_visible(False)\n",
    "\n",
    "lineas = grafico.get_xticks()\n",
    "for i in lineas:\n",
    "      grafico.axvline(x=i, linestyle='--', alpha=0.4, color='#eeeeee')\n",
    "        \n",
    "grafico.set_xlabel(\"Repeticiones\", labelpad=20, weight='bold', size=16)\n",
    "grafico.set_ylabel(\"Palabra\", labelpad=20, weight='bold', size=16)\n",
    "\n",
    "plt.title(\"Veracidad de las 30 palabras mas repetidas (sin preposiciones)\", weight='bold', size=20, pad=15)\n",
    "grafico.legend(fontsize = 15)"
   ]
  },
  {
   "cell_type": "markdown",
   "metadata": {},
   "source": [
    "#### Ordeno segun porcentaje de veracidad y apariciones totales."
   ]
  },
  {
   "cell_type": "code",
   "execution_count": null,
   "metadata": {},
   "outputs": [],
   "source": [
    "agrupadas.sort_values(by=['porcentaje_veraces', 'apariciones_totales'], ascending=[False, False], inplace = True)"
   ]
  },
  {
   "cell_type": "code",
   "execution_count": null,
   "metadata": {
    "scrolled": true
   },
   "outputs": [],
   "source": [
    "agrupadas.head()"
   ]
  },
  {
   "cell_type": "markdown",
   "metadata": {},
   "source": [
    "#### Reordeno columnas"
   ]
  },
  {
   "cell_type": "code",
   "execution_count": null,
   "metadata": {
    "scrolled": true
   },
   "outputs": [],
   "source": [
    "agrupadas = agrupadas[['apariciones_veraces', 'apariciones_falaces', 'apariciones_totales', 'porcentaje_veraces']]\n",
    "agrupadas.head()"
   ]
  },
  {
   "cell_type": "markdown",
   "metadata": {},
   "source": [
    "### Me armo mi array de colores "
   ]
  },
  {
   "cell_type": "code",
   "execution_count": null,
   "metadata": {},
   "outputs": [],
   "source": [
    "saltos = np.linspace(0.3, 0.7, 20)\n",
    "colores = cmap(saltos)\n"
   ]
  },
  {
   "cell_type": "markdown",
   "metadata": {},
   "source": [
    "#### Como se distrubuyen las palabras a lo largo del porcentaje de veracidad? donde se concentran mas?"
   ]
  },
  {
   "cell_type": "code",
   "execution_count": null,
   "metadata": {},
   "outputs": [],
   "source": [
    "plt.figure(figsize= (16,12) )\n",
    "color = tuple( colores[19] )\n",
    "fig=plt.figure()\n",
    "ax = fig.add_subplot(111)\n",
    "plt.xlim(0,100)\n",
    "plt.title('Densidad de  palabras en funcion de % de veracidad ',fontsize=16,fontweight='bold')\n",
    "ax.set_xlabel('% de veracidad')\n",
    "agrupadas['porcentaje_veraces'].plot.kde(color = color , figsize=(10, 5));"
   ]
  },
  {
   "cell_type": "code",
   "execution_count": null,
   "metadata": {},
   "outputs": [],
   "source": [
    "plt.figure(figsize=(10,10))    \n",
    "n, bins, patches = plt.hist(agrupadas[\"porcentaje_veraces\"], bins=10, color=\"c\")\n",
    "hist_porcentajes = plt.gca()\n",
    "\n",
    "for i,p in enumerate(patches):\n",
    "    plt.setp(p, \"facecolor\", colores[i+3])\n",
    "\n",
    "plt.xticks(np.arange(0, 100+1, 10.0))\n",
    "plt.yticks(np.arange(0, 210+1, 10.0))\n",
    "plt.tick_params(axis='y', length=0)\n",
    "\n",
    "hist_porcentajes.spines['right'].set_visible(False)\n",
    "hist_porcentajes.spines['top'].set_visible(False)\n",
    "hist_porcentajes.spines['left'].set_visible(False)\n",
    "\n",
    "lineas = hist_porcentajes.get_yticks()\n",
    "for i in lineas:\n",
    "      hist_porcentajes.axhline(y=i, linestyle='--', alpha=0.4, color='#eeeeee')\n",
    "        \n",
    "hist_porcentajes.set_xlabel(\"Porcentaje de Veracidad\", labelpad=20, weight='bold', size=16)\n",
    "hist_porcentajes.set_ylabel(\"Cantidad de Palabras\", labelpad=20, weight='bold', size=16)\n",
    "\n",
    "plt.title(\"Cantidad de palabras por porcentaje de veracidad\", weight='bold', size=20, pad=30)"
   ]
  },
  {
   "cell_type": "markdown",
   "metadata": {},
   "source": [
    "#### Con esto se puede observar que en aproximadamente entre el 20% 30% de la veracidad es donde se asocian mas palabras diferentes. Esto es debido a que suelen haber mas tweets verdaderos que falsos, por lo tanto es esperable que el pico este desviado hacia la izquierda del 50%."
   ]
  },
  {
   "cell_type": "markdown",
   "metadata": {},
   "source": [
    "#### Ahora veo como se distribuyen las palabras en funciona su % de veracidad y sus repeticiones."
   ]
  },
  {
   "cell_type": "code",
   "execution_count": null,
   "metadata": {},
   "outputs": [],
   "source": [
    "agrupadas.head(100)"
   ]
  },
  {
   "cell_type": "markdown",
   "metadata": {},
   "source": [
    "#### Se puede observar que hay mucha palabras con el mas de 0.2 % de apariciones que tienen 100 de veracidad, observo como se relaciona la veracidad una palabra en relacion con la cantidad de repeticiones de la misma."
   ]
  },
  {
   "cell_type": "code",
   "execution_count": null,
   "metadata": {},
   "outputs": [],
   "source": [
    "agrupadas.plot.scatter('porcentaje_veraces','apariciones_totales', title='Relacion entre apariciones y veracidad',alpha=0.25,figsize=(12,8), color = color);\n",
    "ax=plt.gca()\n",
    "ax.set_ylabel('Apariciones')\n",
    "ax.set_xlabel('Porcentaje de veracidad');"
   ]
  },
  {
   "cell_type": "markdown",
   "metadata": {},
   "source": [
    "#### Parece haber muy pocas palabras con mas de 500 apariciones, y como es obvio las que lo cumplen tienden a rondar el 50% de veracidad. Elimino estas al no tener relevancia en el analisis.\n"
   ]
  },
  {
   "cell_type": "code",
   "execution_count": null,
   "metadata": {},
   "outputs": [],
   "source": [
    "agrupadas_short = agrupadas.loc[agrupadas[('apariciones_totales')]<500,:]"
   ]
  },
  {
   "cell_type": "code",
   "execution_count": null,
   "metadata": {},
   "outputs": [],
   "source": [
    "agrupadas_short.plot.scatter('porcentaje_veraces','apariciones_totales', title='Relacion entre apariciones y veracidad (filtrando en 500)',alpha=0.25,figsize=(12,8), color = color);\n",
    "ax=plt.gca();\n",
    "ax=plt.gca()\n",
    "ax.set_ylabel('Apariciones')\n",
    "ax.set_xlabel('Porcentaje de veracidad');"
   ]
  },
  {
   "cell_type": "markdown",
   "metadata": {},
   "source": [
    "#### Se sigue demostrando una gran acumulacion debajo de las 100 apariciones, vuelvo a filtrar."
   ]
  },
  {
   "cell_type": "code",
   "execution_count": null,
   "metadata": {},
   "outputs": [],
   "source": [
    "agrupadas_short = agrupadas.loc[agrupadas[('apariciones_totales')]<100,:]"
   ]
  },
  {
   "cell_type": "code",
   "execution_count": null,
   "metadata": {},
   "outputs": [],
   "source": [
    "agrupadas_short.plot.scatter('porcentaje_veraces','apariciones_totales', title='Relacion entre apariciones y veracidad (filtrando en 100)',alpha=0.25,figsize=(12,8), color = color);\n",
    "ax=plt.gca()\n",
    "ax.set_ylabel('Apariciones')\n",
    "ax.set_xlabel('Porcentaje de veracidad');"
   ]
  },
  {
   "cell_type": "markdown",
   "metadata": {},
   "source": [
    "#### EXPLICAR PORQUE EL GRAFICO TIENE ESAS COSAS REDONDITAS."
   ]
  },
  {
   "cell_type": "markdown",
   "metadata": {},
   "source": [
    "#### Como es de esperarse vemos una agrupacion de muchas palabras en 100% de veracidad, esto se debe a que la muestra no es suficientemente grande. "
   ]
  },
  {
   "cell_type": "markdown",
   "metadata": {},
   "source": [
    "#### Luego se puede observar que al buscar palabras con mayo numero de apariciones, el procentaje de veracidad se encuentra alrededor del 50%."
   ]
  },
  {
   "cell_type": "markdown",
   "metadata": {},
   "source": [
    "#### Cantidad de apariciones con 100% de veracidad"
   ]
  },
  {
   "cell_type": "code",
   "execution_count": null,
   "metadata": {},
   "outputs": [],
   "source": [
    "agrupadas_short = agrupadas.loc[agrupadas[('porcentaje_veraces')]==100,:]"
   ]
  },
  {
   "cell_type": "code",
   "execution_count": null,
   "metadata": {
    "scrolled": false
   },
   "outputs": [],
   "source": [
    "saltos = np.linspace(0.2, 0.9, 50)\n",
    "colores = cmap(saltos)\n",
    "\n",
    "maximo = agrupadas_short['apariciones_totales'].max()\n",
    "\n",
    "grafico = agrupadas_short.sort_values(\"apariciones_totales\").plot(kind='barh', figsize=(14,12), y ='apariciones_totales', color=colores, width=0.75, fontsize = 18)\n",
    "\n",
    "plt.xticks(np.arange(0, maximo+1, 5))\n",
    "plt.tick_params(axis='y', length=0)\n",
    "\n",
    "grafico.spines['right'].set_visible(False)\n",
    "grafico.spines['top'].set_visible(False)\n",
    "grafico.spines['left'].set_visible(False)\n",
    "grafico.spines['bottom'].set_visible(False)\n",
    "\n",
    "lineas = grafico.get_xticks()\n",
    "for i in lineas:\n",
    "      grafico.axvline(x=i, linestyle='--', alpha=0.4, color='#eeeeee')\n",
    "        \n",
    "grafico.set_xlabel(\"Repeticiones\", labelpad=20, weight='bold', size=16)\n",
    "grafico.set_ylabel(\"Palabra\", labelpad=20, weight='bold', size=16)\n",
    "\n",
    "plt.title(\"Apariciones de palabras con 100% de veracidad\", weight='bold', size=20, pad=15)\n",
    "grafico.legend(fontsize = 15)"
   ]
  },
  {
   "cell_type": "code",
   "execution_count": null,
   "metadata": {},
   "outputs": [],
   "source": []
  },
  {
   "cell_type": "markdown",
   "metadata": {},
   "source": [
    "#### Quiero graficar todas las palabras que tienen por lo menos un 90% de veracidad, me parece algo interesante."
   ]
  },
  {
   "cell_type": "code",
   "execution_count": null,
   "metadata": {},
   "outputs": [],
   "source": [
    "agrupadas_short = agrupadas.loc[agrupadas[('porcentaje_veraces')]>=90,:]\n",
    "agrupadas_short.head()"
   ]
  },
  {
   "cell_type": "code",
   "execution_count": null,
   "metadata": {},
   "outputs": [],
   "source": [
    "agrupadas_short.info()\n"
   ]
  },
  {
   "cell_type": "markdown",
   "metadata": {},
   "source": [
    "#### Tengo 100 items, un wordcloud es una buena idea. El tamaño va asociado a la cantidad de repeticiones, el color a el % de veracidad."
   ]
  },
  {
   "cell_type": "code",
   "execution_count": null,
   "metadata": {},
   "outputs": [],
   "source": [
    "color_wordcloud = cmap(np.linspace(0.4, .9,101))\n",
    "colores_rgb = ()\n",
    "for i in color_wordcloud:\n",
    "    #convierto rgba en rgb\n",
    "    aux = list(i)\n",
    "    del aux[3]\n",
    "    aux = (int(x * 255) for x in aux)\n",
    "    aux =tuple(aux)\n",
    "    colores_rgb = colores_rgb + (aux,)\n",
    "    \n"
   ]
  },
  {
   "cell_type": "code",
   "execution_count": null,
   "metadata": {},
   "outputs": [],
   "source": [
    "#cosa de mandinga, no tocar    \n",
    "def my_tf_color_func_mayor_veracidad(dictionary):\n",
    "  def my_tf_color_func_inner(word, font_size, position, orientation, random_state=None, **kwargs):\n",
    "    return colores_rgb[int ( (dictionary[word]-90)*10) ]\n",
    "  return my_tf_color_func_inner   "
   ]
  },
  {
   "cell_type": "code",
   "execution_count": null,
   "metadata": {},
   "outputs": [],
   "source": [
    "indices = list(agrupadas_short.index)\n",
    "valores = list(agrupadas_short['apariciones_totales'])\n",
    "todas_las_palabras = list()"
   ]
  },
  {
   "cell_type": "code",
   "execution_count": null,
   "metadata": {},
   "outputs": [],
   "source": [
    "for i in range( len(indices) ):\n",
    "    for j in range ( valores[i] ):\n",
    "        todas_las_palabras.append(indices[i])"
   ]
  },
  {
   "cell_type": "code",
   "execution_count": null,
   "metadata": {},
   "outputs": [],
   "source": [
    "todas_las_palabras = pd.Series(todas_las_palabras).to_string()"
   ]
  },
  {
   "cell_type": "code",
   "execution_count": null,
   "metadata": {},
   "outputs": [],
   "source": [
    "mask = np.array(Image.open(\"../TP1-Organizacion-de-Datos/imagenes/ovalo.png\"))"
   ]
  },
  {
   "cell_type": "code",
   "execution_count": null,
   "metadata": {},
   "outputs": [],
   "source": [
    "keys = {}\n",
    "veracidades = agrupadas_short['porcentaje_veraces'].tolist()\n",
    "\n",
    "for i in range(len(indices)):\n",
    "    keys[indices[i]] = veracidades[i]\n"
   ]
  },
  {
   "cell_type": "code",
   "execution_count": null,
   "metadata": {},
   "outputs": [],
   "source": [
    "plt.figure(figsize= (16,12) )\n",
    "wordcloud = WordCloud(font_path='../fonts/truetype/ubuntu/Ubuntu-M.ttf',collocations=False, colormap=cmap, \\\n",
    "                      relative_scaling=0.5, background_color='white', width=800, height=200, \\\n",
    "                      color_func=my_tf_color_func_mayor_veracidad(keys), normalize_plurals=False, mask=mask, prefer_horizontal=0.5).generate(todas_las_palabras)\n",
    "\n",
    "topes = mpl.colors.Normalize(vmin=90, vmax=100)\n",
    "cmap_wordcloud = ListedColormap(cmap(np.linspace(0.4, 0.9, 256)))\n",
    "\n",
    "plt.imshow(wordcloud, interpolation='bilinear')\n",
    "plt.colorbar(cm.ScalarMappable(norm=topes, cmap=cmap_wordcloud), label='Veracidad (%)', \\\n",
    "             orientation='horizontal', shrink=0.75, pad=0.05)\n",
    "plt.axis(\"off\")\n",
    "plt.title(\"Palabras con mas de 90% de veracidad \", weight='bold', size=20, pad=30)\n",
    "plt.show()"
   ]
  },
  {
   "cell_type": "markdown",
   "metadata": {},
   "source": [
    "#### Ahora voy a analisar, las palabras que tienden a ser menos veraces."
   ]
  },
  {
   "cell_type": "code",
   "execution_count": null,
   "metadata": {},
   "outputs": [],
   "source": [
    "agrupadas_short = agrupadas.loc[agrupadas[('porcentaje_veraces')]==0,:]\n",
    "agrupadas_short.info()"
   ]
  },
  {
   "cell_type": "code",
   "execution_count": null,
   "metadata": {},
   "outputs": [],
   "source": [
    "saltos = np.linspace(0.3, 0.5, 2)\n",
    "colores = cmap(saltos)\n",
    "\n",
    "maximo = agrupadas_short['apariciones_totales'].max()\n",
    "\n",
    "grafico = agrupadas_short.sort_values(\"apariciones_totales\").plot(kind='barh', figsize=(10,7), y ='apariciones_totales', color=colores, width=0.75, fontsize = 18)\n",
    "\n",
    "plt.xticks(np.arange(0, maximo+1, 2))\n",
    "plt.tick_params(axis='y', length=0)\n",
    "\n",
    "grafico.spines['right'].set_visible(False)\n",
    "grafico.spines['top'].set_visible(False)\n",
    "grafico.spines['left'].set_visible(False)\n",
    "grafico.spines['bottom'].set_visible(False)\n",
    "\n",
    "lineas = grafico.get_xticks()\n",
    "for i in lineas:\n",
    "      grafico.axvline(x=i, linestyle='--', alpha=0.4, color='#eeeeee')\n",
    "        \n",
    "grafico.set_xlabel(\"Repeticiones\", labelpad=20, weight='bold', size=16)\n",
    "grafico.set_ylabel(\"Palabra\", labelpad=20, weight='bold', size=16)\n",
    "\n",
    "plt.title(\"Apariciones de palabras con 0% de veracidad\", weight='bold', size=20, pad=15)"
   ]
  },
  {
   "cell_type": "code",
   "execution_count": null,
   "metadata": {
    "scrolled": false
   },
   "outputs": [],
   "source": [
    "agrupadas_short = agrupadas.loc[agrupadas[('porcentaje_veraces')]<=5,:]\n",
    "agrupadas_short.info()"
   ]
  },
  {
   "cell_type": "code",
   "execution_count": null,
   "metadata": {},
   "outputs": [],
   "source": [
    "saltos = np.linspace(0.3, 0.8, 13)\n",
    "colores = cmap(saltos)\n",
    "\n",
    "maximo = agrupadas_short['apariciones_totales'].max()\n",
    "\n",
    "grafico = agrupadas_short.sort_values(\"apariciones_totales\").plot(kind='barh', figsize=(20,14), y ='apariciones_totales', color=colores, width=0.75, fontsize = 18)\n",
    "\n",
    "plt.xticks(np.arange(0, maximo+1, 2))\n",
    "plt.tick_params(axis='y', length=0)\n",
    "\n",
    "grafico.spines['right'].set_visible(False)\n",
    "grafico.spines['top'].set_visible(False)\n",
    "grafico.spines['left'].set_visible(False)\n",
    "grafico.spines['bottom'].set_visible(False)\n",
    "\n",
    "lineas = grafico.get_xticks()\n",
    "for i in lineas:\n",
    "      grafico.axvline(x=i, linestyle='--', alpha=0.4, color='#eeeeee')\n",
    "        \n",
    "grafico.set_xlabel(\"Repeticiones\", labelpad=20, weight='bold', size=16)\n",
    "grafico.set_ylabel(\"Palabra\", labelpad=20, weight='bold', size=16)\n",
    "\n",
    "plt.title(\"Apariciones de palabras por debajo del 5% de veracidad\", weight='bold', size=20, pad=15)"
   ]
  },
  {
   "cell_type": "markdown",
   "metadata": {},
   "source": [
    "#### Estudiemos el 10%, buscando mas palabras"
   ]
  },
  {
   "cell_type": "code",
   "execution_count": null,
   "metadata": {
    "scrolled": true
   },
   "outputs": [],
   "source": [
    "agrupadas_short = agrupadas.loc[agrupadas[('porcentaje_veraces')]<=10,:]\n",
    "agrupadas_short.info()"
   ]
  },
  {
   "cell_type": "markdown",
   "metadata": {},
   "source": [
    "#### Tengo 37 elementos por debajo del 10%, hago un bar plot."
   ]
  },
  {
   "cell_type": "code",
   "execution_count": null,
   "metadata": {},
   "outputs": [],
   "source": [
    "saltos = np.linspace(0.3, 0.88, 41)\n",
    "colores = cmap(saltos)\n",
    "\n",
    "def my_tf_color_func_mayor_veracidad(dictionary):\n",
    "  def my_tf_color_func_inner(word, font_size, position, orientation, random_state=None, **kwargs):\n",
    "    return colores_rgb[int ( dictionary[word]*4) ]\n",
    "  return my_tf_color_func_inner\n",
    "\n",
    "\n",
    "maximo = agrupadas_short['apariciones_totales'].max()\n",
    "\n",
    "grafico = agrupadas_short.sort_values(\"apariciones_totales\").plot(kind='barh', figsize=(14,15), y ='apariciones_totales', color=colores, width=0.75, fontsize = 18)\n",
    "\n",
    "plt.xticks(np.arange(0, maximo+1, 5),rotation=35,fontsize=16,ha='right')\n",
    "plt.tick_params(axis='y', length=0)\n",
    "\n",
    "grafico.spines['right'].set_visible(False)\n",
    "grafico.spines['top'].set_visible(False)\n",
    "grafico.spines['left'].set_visible(False)\n",
    "grafico.spines['bottom'].set_visible(False)\n",
    "\n",
    "lineas = grafico.get_xticks()\n",
    "for i in lineas:\n",
    "      grafico.axvline(x=i, linestyle='--', alpha=0.4, color='#eeeeee')\n",
    "        \n",
    "grafico.set_xlabel(\"Repeticiones\", labelpad=20, weight='bold', size=16)\n",
    "grafico.set_ylabel(\"Palabra\", labelpad=20, weight='bold', size=16)\n",
    "\n",
    "plt.title(\"Apariciones de palabras por debajo del 10% de veracidad\", weight='bold', size=20, pad=15)"
   ]
  },
  {
   "cell_type": "markdown",
   "metadata": {},
   "source": [
    "#### Palabras con 10% de apariciones"
   ]
  },
  {
   "cell_type": "code",
   "execution_count": null,
   "metadata": {},
   "outputs": [],
   "source": [
    "indices = list(agrupadas_short.index)\n",
    "valores = list(agrupadas_short['apariciones_totales'])\n",
    "todas_las_palabras = list()\n",
    "\n",
    "for i in range( len(indices) ):\n",
    "    for j in range ( valores[i] ):\n",
    "        todas_las_palabras.append(indices[i])\n",
    "        \n",
    "todas_las_palabras = pd.Series(todas_las_palabras).to_string()\n",
    "\n",
    "keys = {}\n",
    "veracidades = agrupadas_short['porcentaje_veraces'].tolist()\n",
    "\n",
    "for i in range(len(indices)):\n",
    "    keys[indices[i]] = veracidades[i]\n"
   ]
  },
  {
   "cell_type": "code",
   "execution_count": null,
   "metadata": {},
   "outputs": [],
   "source": [
    "color_wordcloud = cmap(np.linspace(0.4, .9, 39))\n",
    "\n",
    "\n",
    "plt.figure(figsize= (16,12) )\n",
    "wordcloud = WordCloud(font_path='../fonts/truetype/ubuntu/Ubuntu-M.ttf',collocations=False, colormap=cmap, \\\n",
    "                      relative_scaling=0.5, background_color='white', width=800, height=200, \\\n",
    "                      color_func=my_tf_color_func_mayor_veracidad(keys), normalize_plurals=False, mask=mask, prefer_horizontal=0.5).generate(todas_las_palabras)\n",
    "\n",
    "topes = mpl.colors.Normalize(vmin=0, vmax=10)\n",
    "cmap_wordcloud = ListedColormap(cmap(np.linspace(0.4, 0.9, 256)))\n",
    "\n",
    "plt.imshow(wordcloud, interpolation='bilinear')\n",
    "plt.colorbar(cm.ScalarMappable(norm=topes, cmap=cmap_wordcloud), label='Veracidad (%)', \\\n",
    "             orientation='horizontal', shrink=0.75, pad=0.05)\n",
    "plt.axis(\"off\")\n",
    "plt.title(\"Palabras con menos de 10% de veracidad\", weight='bold', size=20, pad=30)\n",
    "plt.show()"
   ]
  },
  {
   "cell_type": "markdown",
   "metadata": {},
   "source": [
    "### extra -> wordcloud de las palabras que mas se repiten"
   ]
  },
  {
   "cell_type": "code",
   "execution_count": null,
   "metadata": {},
   "outputs": [],
   "source": [
    "agrupadas.info()"
   ]
  },
  {
   "cell_type": "code",
   "execution_count": null,
   "metadata": {},
   "outputs": [],
   "source": [
    "indices = list(agrupadas.index)\n",
    "valores = list(agrupadas['apariciones_totales'])\n",
    "todas_las_palabras = list()\n",
    "\n",
    "for i in range( len(indices) ):\n",
    "    for j in range ( valores[i] ):\n",
    "        todas_las_palabras.append(indices[i])\n",
    "        \n",
    "todas_las_palabras = pd.Series(todas_las_palabras).to_string()\n"
   ]
  },
  {
   "cell_type": "code",
   "execution_count": null,
   "metadata": {},
   "outputs": [],
   "source": [
    "len(todas_las_palabras)"
   ]
  },
  {
   "cell_type": "code",
   "execution_count": null,
   "metadata": {},
   "outputs": [],
   "source": [
    "type(STOPWORDS)"
   ]
  },
  {
   "cell_type": "code",
   "execution_count": null,
   "metadata": {},
   "outputs": [],
   "source": [
    "mask = np.array(Image.open(\"imagenes/twitter.jpg\"))\n",
    "wordcloud_bandera = WordCloud(stopwords=[\"\"], collocations=False,background_color=\"white\", mode=\"RGBA\", max_words=1000, mask=mask, normalize_plurals=False).generate(todas_las_palabras)\n",
    "\n",
    "image_colors = ImageColorGenerator(mask)\n",
    "plt.figure(figsize=[14,14])\n",
    "plt.imshow(wordcloud_bandera.recolor(color_func=image_colors), interpolation=\"bilinear\")\n",
    "plt.axis(\"off\")\n",
    "\n",
    "\n",
    "plt.savefig(\"imagenes/palabras_con_wordstops.png\", format=\"png\")\n",
    "\n",
    "plt.show()"
   ]
  },
  {
   "cell_type": "markdown",
   "metadata": {},
   "source": [
    "#### filtrando por stopword (prepositions)"
   ]
  },
  {
   "cell_type": "code",
   "execution_count": null,
   "metadata": {},
   "outputs": [],
   "source": [
    "mask = np.array(Image.open(\"imagenes/twitter.jpg\"))\n",
    "wordcloud_bandera = WordCloud(stopwords=STOPWORDS, collocations=False,background_color=\"white\", mode=\"RGBA\", max_words=1000, mask=mask, normalize_plurals=False).generate(todas_las_palabras)\n",
    "\n",
    "image_colors = ImageColorGenerator(mask)\n",
    "plt.figure(figsize=[14,14])\n",
    "plt.imshow(wordcloud_bandera.recolor(color_func=image_colors), interpolation=\"bilinear\")\n",
    "plt.axis(\"off\")\n",
    "\n",
    "\n",
    "plt.savefig(\"imagenes/palabras_sin_wordstops.png\", format=\"png\")\n",
    "\n",
    "plt.show()"
   ]
  },
  {
   "cell_type": "markdown",
   "metadata": {},
   "source": [
    "### longitud palabra promedio"
   ]
  },
  {
   "cell_type": "code",
   "execution_count": null,
   "metadata": {},
   "outputs": [],
   "source": [
    "agrupadas.head()"
   ]
  },
  {
   "cell_type": "code",
   "execution_count": null,
   "metadata": {},
   "outputs": [],
   "source": [
    "type(agrupadas.index[1])"
   ]
  },
  {
   "cell_type": "code",
   "execution_count": null,
   "metadata": {},
   "outputs": [],
   "source": [
    "agrupadas['largo'] = agrupadas.index.str.len()"
   ]
  },
  {
   "cell_type": "code",
   "execution_count": null,
   "metadata": {},
   "outputs": [],
   "source": [
    "agrupadas.head()"
   ]
  },
  {
   "cell_type": "code",
   "execution_count": null,
   "metadata": {},
   "outputs": [],
   "source": [
    "color = cmap(0.7)\n",
    "agrupadas.plot.scatter('largo','porcentaje_veraces', title='Relacion entre el largo de una palabra y su veracidad',alpha=0.25,figsize=(16,10), color = color);\n",
    "ax=plt.gca()\n",
    "ax.set_xlabel('Cantidad de caracteres')\n",
    "ax.set_ylabel('Porcentaje de veracidad');"
   ]
  },
  {
   "cell_type": "markdown",
   "metadata": {},
   "source": [
    "#### Ver la longitud promedio de las palabras"
   ]
  },
  {
   "cell_type": "code",
   "execution_count": null,
   "metadata": {},
   "outputs": [],
   "source": [
    "tweets.info()"
   ]
  },
  {
   "cell_type": "code",
   "execution_count": null,
   "metadata": {
    "scrolled": true
   },
   "outputs": [],
   "source": [
    "tweets.head()"
   ]
  },
  {
   "cell_type": "code",
   "execution_count": null,
   "metadata": {},
   "outputs": [],
   "source": [
    "tweets['long_promedio_palabra'] = (tweets['nºcaracteres']/tweets['nºpalabras'])"
   ]
  },
  {
   "cell_type": "code",
   "execution_count": null,
   "metadata": {
    "scrolled": true
   },
   "outputs": [],
   "source": [
    "tweets.sample(3)"
   ]
  },
  {
   "cell_type": "code",
   "execution_count": null,
   "metadata": {
    "scrolled": true
   },
   "outputs": [],
   "source": [
    "long_promedio = tweets['long_promedio_palabra'].mean()\n",
    "long_promedioV = (tweets.loc[tweets['target'] == 1])['long_promedio_palabra'].mean()\n",
    "long_promedioF = (tweets.loc[tweets['target'] == 0])['long_promedio_palabra'].mean()"
   ]
  },
  {
   "cell_type": "code",
   "execution_count": null,
   "metadata": {},
   "outputs": [],
   "source": [
    "print([long_promedio, long_promedioV, long_promedioF])"
   ]
  },
  {
   "cell_type": "code",
   "execution_count": null,
   "metadata": {},
   "outputs": [],
   "source": [
    "plt.figure(figsize= (12,6))\n",
    "\n",
    "ax = plt.subplot()\n",
    "\n",
    "# Example data\n",
    "labels = ('Todos los tweets', 'Tweets verdaderos', 'Tweets falsos',)\n",
    "y_pos = np.arange(len(labels))\n",
    "promedio = [long_promedio, long_promedioV, long_promedioF]\n",
    "\n",
    "ax.barh(y_pos, promedio, align='center', color = cmap([0.6,0.75,0.45]))\n",
    "ax.set_yticks(y_pos)\n",
    "ax.set_yticks(y_pos)\n",
    "ax.set_yticklabels(labels)\n",
    "\n",
    "plt.xticks(np.arange(0, 7.5, step=0.2), rotation=35,fontsize=10,ha='right')\n",
    "\n",
    "lineas = ax.get_xticks()\n",
    "for i in lineas:\n",
    "    \n",
    "      ax.axvline(x=i, linestyle='--', alpha=0.4, color='#eeeeee')\n",
    "\n",
    "ax.invert_yaxis()  \n",
    "ax.set_xlabel('Largo promedio de palabra ( en caracteres)')\n",
    "ax.set_title('Relacion entre largo de las palabras y veracidad del tweets')\n"
   ]
  }
 ],
 "metadata": {
  "kernelspec": {
   "display_name": "Python 3",
   "language": "python",
   "name": "python3"
  },
  "language_info": {
   "codemirror_mode": {
    "name": "ipython",
    "version": 3
   },
   "file_extension": ".py",
   "mimetype": "text/x-python",
   "name": "python",
   "nbconvert_exporter": "python",
   "pygments_lexer": "ipython3",
   "version": "3.7.6"
  }
 },
 "nbformat": 4,
 "nbformat_minor": 4
}
