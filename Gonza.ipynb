{
 "cells": [
  {
   "cell_type": "code",
   "execution_count": 1,
   "metadata": {},
   "outputs": [
    {
     "data": {
      "text/html": [
       "<div>\n",
       "<style scoped>\n",
       "    .dataframe tbody tr th:only-of-type {\n",
       "        vertical-align: middle;\n",
       "    }\n",
       "\n",
       "    .dataframe tbody tr th {\n",
       "        vertical-align: top;\n",
       "    }\n",
       "\n",
       "    .dataframe thead th {\n",
       "        text-align: right;\n",
       "    }\n",
       "</style>\n",
       "<table border=\"1\" class=\"dataframe\">\n",
       "  <thead>\n",
       "    <tr style=\"text-align: right;\">\n",
       "      <th></th>\n",
       "      <th>id</th>\n",
       "      <th>keyword</th>\n",
       "      <th>location</th>\n",
       "      <th>text</th>\n",
       "      <th>target</th>\n",
       "    </tr>\n",
       "  </thead>\n",
       "  <tbody>\n",
       "    <tr>\n",
       "      <th>7217</th>\n",
       "      <td>10336</td>\n",
       "      <td>weapons</td>\n",
       "      <td>California, United States</td>\n",
       "      <td>#Kick Hendrixonfire  @'=BLACKCATS= | BIG NOOB ...</td>\n",
       "      <td>0</td>\n",
       "    </tr>\n",
       "    <tr>\n",
       "      <th>2553</th>\n",
       "      <td>3661</td>\n",
       "      <td>destroy</td>\n",
       "      <td>NaN</td>\n",
       "      <td>@RaidersReporter @957thegame together we can d...</td>\n",
       "      <td>0</td>\n",
       "    </tr>\n",
       "    <tr>\n",
       "      <th>773</th>\n",
       "      <td>1119</td>\n",
       "      <td>blew%20up</td>\n",
       "      <td>Queens, NY</td>\n",
       "      <td>Lmao that light skin guy blew up on Twitter by...</td>\n",
       "      <td>0</td>\n",
       "    </tr>\n",
       "    <tr>\n",
       "      <th>2370</th>\n",
       "      <td>3408</td>\n",
       "      <td>derail</td>\n",
       "      <td>NaN</td>\n",
       "      <td>@EmiiliexIrwin Totally agree.She is 23 and kno...</td>\n",
       "      <td>0</td>\n",
       "    </tr>\n",
       "    <tr>\n",
       "      <th>7458</th>\n",
       "      <td>10673</td>\n",
       "      <td>wounds</td>\n",
       "      <td>Alex/Mika/Leo|18|he/she/they</td>\n",
       "      <td>@ego_resolution im glad. My gay can heal 1000 ...</td>\n",
       "      <td>0</td>\n",
       "    </tr>\n",
       "  </tbody>\n",
       "</table>\n",
       "</div>"
      ],
      "text/plain": [
       "         id    keyword                       location  \\\n",
       "7217  10336    weapons      California, United States   \n",
       "2553   3661    destroy                            NaN   \n",
       "773    1119  blew%20up                     Queens, NY   \n",
       "2370   3408     derail                            NaN   \n",
       "7458  10673     wounds   Alex/Mika/Leo|18|he/she/they   \n",
       "\n",
       "                                                   text  target  \n",
       "7217  #Kick Hendrixonfire  @'=BLACKCATS= | BIG NOOB ...       0  \n",
       "2553  @RaidersReporter @957thegame together we can d...       0  \n",
       "773   Lmao that light skin guy blew up on Twitter by...       0  \n",
       "2370  @EmiiliexIrwin Totally agree.She is 23 and kno...       0  \n",
       "7458  @ego_resolution im glad. My gay can heal 1000 ...       0  "
      ]
     },
     "execution_count": 1,
     "metadata": {},
     "output_type": "execute_result"
    }
   ],
   "source": [
    "import pandas as pd\n",
    "import numpy as np\n",
    "import matplotlib.pyplot as plt\n",
    "import matplotlib.cm as cm\n",
    "\n",
    "tweets = pd.read_csv('../TP1-Organizacion-de-Datos/csv/train.csv')\n",
    "tweets.sample(n=5)"
   ]
  },
  {
   "cell_type": "code",
   "execution_count": 2,
   "metadata": {},
   "outputs": [
    {
     "data": {
      "text/html": [
       "<div>\n",
       "<style scoped>\n",
       "    .dataframe tbody tr th:only-of-type {\n",
       "        vertical-align: middle;\n",
       "    }\n",
       "\n",
       "    .dataframe tbody tr th {\n",
       "        vertical-align: top;\n",
       "    }\n",
       "\n",
       "    .dataframe thead th {\n",
       "        text-align: right;\n",
       "    }\n",
       "</style>\n",
       "<table border=\"1\" class=\"dataframe\">\n",
       "  <thead>\n",
       "    <tr style=\"text-align: right;\">\n",
       "      <th></th>\n",
       "      <th>id</th>\n",
       "      <th>keyword</th>\n",
       "      <th>location</th>\n",
       "      <th>text</th>\n",
       "      <th>about_disaster</th>\n",
       "    </tr>\n",
       "  </thead>\n",
       "  <tbody>\n",
       "    <tr>\n",
       "      <th>0</th>\n",
       "      <td>1</td>\n",
       "      <td>NaN</td>\n",
       "      <td>NaN</td>\n",
       "      <td>Our Deeds are the Reason of this #earthquake M...</td>\n",
       "      <td>True</td>\n",
       "    </tr>\n",
       "    <tr>\n",
       "      <th>1</th>\n",
       "      <td>4</td>\n",
       "      <td>NaN</td>\n",
       "      <td>NaN</td>\n",
       "      <td>Forest fire near La Ronge Sask. Canada</td>\n",
       "      <td>True</td>\n",
       "    </tr>\n",
       "    <tr>\n",
       "      <th>2</th>\n",
       "      <td>5</td>\n",
       "      <td>NaN</td>\n",
       "      <td>NaN</td>\n",
       "      <td>All residents asked to 'shelter in place' are ...</td>\n",
       "      <td>True</td>\n",
       "    </tr>\n",
       "    <tr>\n",
       "      <th>3</th>\n",
       "      <td>6</td>\n",
       "      <td>NaN</td>\n",
       "      <td>NaN</td>\n",
       "      <td>13,000 people receive #wildfires evacuation or...</td>\n",
       "      <td>True</td>\n",
       "    </tr>\n",
       "    <tr>\n",
       "      <th>4</th>\n",
       "      <td>7</td>\n",
       "      <td>NaN</td>\n",
       "      <td>NaN</td>\n",
       "      <td>Just got sent this photo from Ruby #Alaska as ...</td>\n",
       "      <td>True</td>\n",
       "    </tr>\n",
       "  </tbody>\n",
       "</table>\n",
       "</div>"
      ],
      "text/plain": [
       "   id keyword location                                               text  \\\n",
       "0   1     NaN      NaN  Our Deeds are the Reason of this #earthquake M...   \n",
       "1   4     NaN      NaN             Forest fire near La Ronge Sask. Canada   \n",
       "2   5     NaN      NaN  All residents asked to 'shelter in place' are ...   \n",
       "3   6     NaN      NaN  13,000 people receive #wildfires evacuation or...   \n",
       "4   7     NaN      NaN  Just got sent this photo from Ruby #Alaska as ...   \n",
       "\n",
       "   about_disaster  \n",
       "0            True  \n",
       "1            True  \n",
       "2            True  \n",
       "3            True  \n",
       "4            True  "
      ]
     },
     "execution_count": 2,
     "metadata": {},
     "output_type": "execute_result"
    }
   ],
   "source": [
    "tweets_final = tweets.rename(columns={'target':'about_disaster'})\n",
    "tweets_final['about_disaster'] = ((tweets_final['about_disaster'])==1)\n",
    "tweets_final.head()"
   ]
  },
  {
   "cell_type": "markdown",
   "metadata": {},
   "source": [
    "# Veracidad por keyword"
   ]
  },
  {
   "cell_type": "code",
   "execution_count": 3,
   "metadata": {},
   "outputs": [],
   "source": [
    "tweets_final['keyword'].fillna(\"none_keyword\", inplace=True)"
   ]
  },
  {
   "cell_type": "code",
   "execution_count": 4,
   "metadata": {},
   "outputs": [
    {
     "data": {
      "text/html": [
       "<div>\n",
       "<style scoped>\n",
       "    .dataframe tbody tr th:only-of-type {\n",
       "        vertical-align: middle;\n",
       "    }\n",
       "\n",
       "    .dataframe tbody tr th {\n",
       "        vertical-align: top;\n",
       "    }\n",
       "\n",
       "    .dataframe thead tr th {\n",
       "        text-align: left;\n",
       "    }\n",
       "\n",
       "    .dataframe thead tr:last-of-type th {\n",
       "        text-align: right;\n",
       "    }\n",
       "</style>\n",
       "<table border=\"1\" class=\"dataframe\">\n",
       "  <thead>\n",
       "    <tr>\n",
       "      <th></th>\n",
       "      <th colspan=\"2\" halign=\"left\">about_disaster</th>\n",
       "    </tr>\n",
       "    <tr>\n",
       "      <th></th>\n",
       "      <th>sum</th>\n",
       "      <th>count</th>\n",
       "    </tr>\n",
       "    <tr>\n",
       "      <th>keyword</th>\n",
       "      <th></th>\n",
       "      <th></th>\n",
       "    </tr>\n",
       "  </thead>\n",
       "  <tbody>\n",
       "    <tr>\n",
       "      <th>ablaze</th>\n",
       "      <td>13.0</td>\n",
       "      <td>36</td>\n",
       "    </tr>\n",
       "    <tr>\n",
       "      <th>accident</th>\n",
       "      <td>24.0</td>\n",
       "      <td>35</td>\n",
       "    </tr>\n",
       "    <tr>\n",
       "      <th>aftershock</th>\n",
       "      <td>0.0</td>\n",
       "      <td>34</td>\n",
       "    </tr>\n",
       "    <tr>\n",
       "      <th>airplane%20accident</th>\n",
       "      <td>30.0</td>\n",
       "      <td>35</td>\n",
       "    </tr>\n",
       "    <tr>\n",
       "      <th>ambulance</th>\n",
       "      <td>20.0</td>\n",
       "      <td>38</td>\n",
       "    </tr>\n",
       "  </tbody>\n",
       "</table>\n",
       "</div>"
      ],
      "text/plain": [
       "                    about_disaster      \n",
       "                               sum count\n",
       "keyword                                 \n",
       "ablaze                        13.0    36\n",
       "accident                      24.0    35\n",
       "aftershock                     0.0    34\n",
       "airplane%20accident           30.0    35\n",
       "ambulance                     20.0    38"
      ]
     },
     "execution_count": 4,
     "metadata": {},
     "output_type": "execute_result"
    }
   ],
   "source": [
    "tweets_por_keyword = tweets_final.groupby(['keyword']).agg({'about_disaster':['sum','count']})\n",
    "tweets_por_keyword.head()"
   ]
  },
  {
   "cell_type": "code",
   "execution_count": 5,
   "metadata": {},
   "outputs": [
    {
     "name": "stdout",
     "output_type": "stream",
     "text": [
      "<class 'pandas.core.frame.DataFrame'>\n",
      "Index: 222 entries, ablaze to wrecked\n",
      "Data columns (total 2 columns):\n",
      "(about_disaster, sum)      222 non-null float64\n",
      "(about_disaster, count)    222 non-null int64\n",
      "dtypes: float64(1), int64(1)\n",
      "memory usage: 5.2+ KB\n"
     ]
    }
   ],
   "source": [
    "tweets_por_keyword.info()"
   ]
  },
  {
   "cell_type": "code",
   "execution_count": 6,
   "metadata": {},
   "outputs": [
    {
     "data": {
      "text/html": [
       "<div>\n",
       "<style scoped>\n",
       "    .dataframe tbody tr th:only-of-type {\n",
       "        vertical-align: middle;\n",
       "    }\n",
       "\n",
       "    .dataframe tbody tr th {\n",
       "        vertical-align: top;\n",
       "    }\n",
       "\n",
       "    .dataframe thead th {\n",
       "        text-align: right;\n",
       "    }\n",
       "</style>\n",
       "<table border=\"1\" class=\"dataframe\">\n",
       "  <thead>\n",
       "    <tr style=\"text-align: right;\">\n",
       "      <th></th>\n",
       "      <th>about_disaster_sum</th>\n",
       "      <th>about_disaster_count</th>\n",
       "    </tr>\n",
       "    <tr>\n",
       "      <th>keyword</th>\n",
       "      <th></th>\n",
       "      <th></th>\n",
       "    </tr>\n",
       "  </thead>\n",
       "  <tbody>\n",
       "    <tr>\n",
       "      <th>ablaze</th>\n",
       "      <td>13.0</td>\n",
       "      <td>36</td>\n",
       "    </tr>\n",
       "    <tr>\n",
       "      <th>accident</th>\n",
       "      <td>24.0</td>\n",
       "      <td>35</td>\n",
       "    </tr>\n",
       "    <tr>\n",
       "      <th>aftershock</th>\n",
       "      <td>0.0</td>\n",
       "      <td>34</td>\n",
       "    </tr>\n",
       "    <tr>\n",
       "      <th>airplane%20accident</th>\n",
       "      <td>30.0</td>\n",
       "      <td>35</td>\n",
       "    </tr>\n",
       "    <tr>\n",
       "      <th>ambulance</th>\n",
       "      <td>20.0</td>\n",
       "      <td>38</td>\n",
       "    </tr>\n",
       "  </tbody>\n",
       "</table>\n",
       "</div>"
      ],
      "text/plain": [
       "                     about_disaster_sum  about_disaster_count\n",
       "keyword                                                      \n",
       "ablaze                             13.0                    36\n",
       "accident                           24.0                    35\n",
       "aftershock                          0.0                    34\n",
       "airplane%20accident                30.0                    35\n",
       "ambulance                          20.0                    38"
      ]
     },
     "execution_count": 6,
     "metadata": {},
     "output_type": "execute_result"
    }
   ],
   "source": [
    "nivel0 = tweets_por_keyword.columns.get_level_values(0)\n",
    "nivel1 = tweets_por_keyword.columns.get_level_values(1)\n",
    "tweets_por_keyword.columns = nivel0 + '_' + nivel1\n",
    "tweets_por_keyword.head()"
   ]
  },
  {
   "cell_type": "code",
   "execution_count": 7,
   "metadata": {},
   "outputs": [
    {
     "data": {
      "text/html": [
       "<div>\n",
       "<style scoped>\n",
       "    .dataframe tbody tr th:only-of-type {\n",
       "        vertical-align: middle;\n",
       "    }\n",
       "\n",
       "    .dataframe tbody tr th {\n",
       "        vertical-align: top;\n",
       "    }\n",
       "\n",
       "    .dataframe thead th {\n",
       "        text-align: right;\n",
       "    }\n",
       "</style>\n",
       "<table border=\"1\" class=\"dataframe\">\n",
       "  <thead>\n",
       "    <tr style=\"text-align: right;\">\n",
       "      <th></th>\n",
       "      <th>about_disaster_true</th>\n",
       "      <th>count</th>\n",
       "    </tr>\n",
       "    <tr>\n",
       "      <th>keyword</th>\n",
       "      <th></th>\n",
       "      <th></th>\n",
       "    </tr>\n",
       "  </thead>\n",
       "  <tbody>\n",
       "    <tr>\n",
       "      <th>ablaze</th>\n",
       "      <td>13.0</td>\n",
       "      <td>36</td>\n",
       "    </tr>\n",
       "    <tr>\n",
       "      <th>accident</th>\n",
       "      <td>24.0</td>\n",
       "      <td>35</td>\n",
       "    </tr>\n",
       "    <tr>\n",
       "      <th>aftershock</th>\n",
       "      <td>0.0</td>\n",
       "      <td>34</td>\n",
       "    </tr>\n",
       "    <tr>\n",
       "      <th>airplane%20accident</th>\n",
       "      <td>30.0</td>\n",
       "      <td>35</td>\n",
       "    </tr>\n",
       "    <tr>\n",
       "      <th>ambulance</th>\n",
       "      <td>20.0</td>\n",
       "      <td>38</td>\n",
       "    </tr>\n",
       "  </tbody>\n",
       "</table>\n",
       "</div>"
      ],
      "text/plain": [
       "                     about_disaster_true  count\n",
       "keyword                                        \n",
       "ablaze                              13.0     36\n",
       "accident                            24.0     35\n",
       "aftershock                           0.0     34\n",
       "airplane%20accident                 30.0     35\n",
       "ambulance                           20.0     38"
      ]
     },
     "execution_count": 7,
     "metadata": {},
     "output_type": "execute_result"
    }
   ],
   "source": [
    "nuevos_nombres = {'about_disaster_sum':'about_disaster_true', 'about_disaster_count':'count'}\n",
    "tweets_por_keyword.rename(columns=nuevos_nombres, inplace=True)\n",
    "tweets_por_keyword.head()"
   ]
  },
  {
   "cell_type": "code",
   "execution_count": 8,
   "metadata": {},
   "outputs": [
    {
     "data": {
      "text/html": [
       "<div>\n",
       "<style scoped>\n",
       "    .dataframe tbody tr th:only-of-type {\n",
       "        vertical-align: middle;\n",
       "    }\n",
       "\n",
       "    .dataframe tbody tr th {\n",
       "        vertical-align: top;\n",
       "    }\n",
       "\n",
       "    .dataframe thead th {\n",
       "        text-align: right;\n",
       "    }\n",
       "</style>\n",
       "<table border=\"1\" class=\"dataframe\">\n",
       "  <thead>\n",
       "    <tr style=\"text-align: right;\">\n",
       "      <th></th>\n",
       "      <th>about_disaster_true</th>\n",
       "      <th>about_disaster_false</th>\n",
       "      <th>count</th>\n",
       "      <th>veracity</th>\n",
       "    </tr>\n",
       "    <tr>\n",
       "      <th>keyword</th>\n",
       "      <th></th>\n",
       "      <th></th>\n",
       "      <th></th>\n",
       "      <th></th>\n",
       "    </tr>\n",
       "  </thead>\n",
       "  <tbody>\n",
       "    <tr>\n",
       "      <th>wreckage</th>\n",
       "      <td>39.0</td>\n",
       "      <td>0.0</td>\n",
       "      <td>39</td>\n",
       "      <td>1.000000</td>\n",
       "    </tr>\n",
       "    <tr>\n",
       "      <th>derailment</th>\n",
       "      <td>39.0</td>\n",
       "      <td>0.0</td>\n",
       "      <td>39</td>\n",
       "      <td>1.000000</td>\n",
       "    </tr>\n",
       "    <tr>\n",
       "      <th>debris</th>\n",
       "      <td>37.0</td>\n",
       "      <td>0.0</td>\n",
       "      <td>37</td>\n",
       "      <td>1.000000</td>\n",
       "    </tr>\n",
       "    <tr>\n",
       "      <th>outbreak</th>\n",
       "      <td>39.0</td>\n",
       "      <td>1.0</td>\n",
       "      <td>40</td>\n",
       "      <td>0.975000</td>\n",
       "    </tr>\n",
       "    <tr>\n",
       "      <th>typhoon</th>\n",
       "      <td>37.0</td>\n",
       "      <td>1.0</td>\n",
       "      <td>38</td>\n",
       "      <td>0.973684</td>\n",
       "    </tr>\n",
       "    <tr>\n",
       "      <th>oil%20spill</th>\n",
       "      <td>37.0</td>\n",
       "      <td>1.0</td>\n",
       "      <td>38</td>\n",
       "      <td>0.973684</td>\n",
       "    </tr>\n",
       "    <tr>\n",
       "      <th>suicide%20bombing</th>\n",
       "      <td>32.0</td>\n",
       "      <td>1.0</td>\n",
       "      <td>33</td>\n",
       "      <td>0.969697</td>\n",
       "    </tr>\n",
       "    <tr>\n",
       "      <th>suicide%20bomber</th>\n",
       "      <td>30.0</td>\n",
       "      <td>1.0</td>\n",
       "      <td>31</td>\n",
       "      <td>0.967742</td>\n",
       "    </tr>\n",
       "    <tr>\n",
       "      <th>bombing</th>\n",
       "      <td>27.0</td>\n",
       "      <td>2.0</td>\n",
       "      <td>29</td>\n",
       "      <td>0.931034</td>\n",
       "    </tr>\n",
       "    <tr>\n",
       "      <th>suicide%20bomb</th>\n",
       "      <td>32.0</td>\n",
       "      <td>3.0</td>\n",
       "      <td>35</td>\n",
       "      <td>0.914286</td>\n",
       "    </tr>\n",
       "  </tbody>\n",
       "</table>\n",
       "</div>"
      ],
      "text/plain": [
       "                   about_disaster_true  about_disaster_false  count  veracity\n",
       "keyword                                                                      \n",
       "wreckage                          39.0                   0.0     39  1.000000\n",
       "derailment                        39.0                   0.0     39  1.000000\n",
       "debris                            37.0                   0.0     37  1.000000\n",
       "outbreak                          39.0                   1.0     40  0.975000\n",
       "typhoon                           37.0                   1.0     38  0.973684\n",
       "oil%20spill                       37.0                   1.0     38  0.973684\n",
       "suicide%20bombing                 32.0                   1.0     33  0.969697\n",
       "suicide%20bomber                  30.0                   1.0     31  0.967742\n",
       "bombing                           27.0                   2.0     29  0.931034\n",
       "suicide%20bomb                    32.0                   3.0     35  0.914286"
      ]
     },
     "execution_count": 8,
     "metadata": {},
     "output_type": "execute_result"
    }
   ],
   "source": [
    "tweets_por_keyword['about_disaster_false'] = tweets_por_keyword['count'] - tweets_por_keyword['about_disaster_true']\n",
    "tweets_por_keyword['veracity'] =  tweets_por_keyword['about_disaster_true']/tweets_por_keyword['count']\n",
    "tweets_por_keyword = tweets_por_keyword[['about_disaster_true', 'about_disaster_false', 'count', 'veracity']]\n",
    "tweets_por_keyword.sort_values(by='veracity', ascending=False, inplace=True)\n",
    "tweets_por_keyword.head(10)"
   ]
  },
  {
   "cell_type": "code",
   "execution_count": 9,
   "metadata": {},
   "outputs": [
    {
     "data": {
      "text/plain": [
       "34.292792792792795"
      ]
     },
     "execution_count": 9,
     "metadata": {},
     "output_type": "execute_result"
    }
   ],
   "source": [
    "tweets_por_keyword['count'].mean()"
   ]
  },
  {
   "cell_type": "code",
   "execution_count": 10,
   "metadata": {},
   "outputs": [
    {
     "data": {
      "text/plain": [
       "35    31\n",
       "34    30\n",
       "33    26\n",
       "36    20\n",
       "37    19\n",
       "38    16\n",
       "32    15\n",
       "39    14\n",
       "31     9\n",
       "29     8\n",
       "40     7\n",
       "30     6\n",
       "41     4\n",
       "42     2\n",
       "28     2\n",
       "27     2\n",
       "22     1\n",
       "10     1\n",
       "11     1\n",
       "12     1\n",
       "19     1\n",
       "61     1\n",
       "24     1\n",
       "25     1\n",
       "26     1\n",
       "45     1\n",
       "9      1\n",
       "Name: count, dtype: int64"
      ]
     },
     "execution_count": 10,
     "metadata": {},
     "output_type": "execute_result"
    }
   ],
   "source": [
    "tweets_por_keyword['count'].value_counts()"
   ]
  },
  {
   "cell_type": "code",
   "execution_count": 11,
   "metadata": {},
   "outputs": [],
   "source": [
    "keywords_veraces = (tweets_por_keyword[tweets_por_keyword['count']>=29]['veracity']*100).head(20)\n",
    "keywords_no_veraces = (tweets_por_keyword[tweets_por_keyword['count']>=29]['veracity']*100).tail(20)"
   ]
  },
  {
   "cell_type": "code",
   "execution_count": 12,
   "metadata": {},
   "outputs": [
    {
     "data": {
      "text/plain": [
       "Text(0.5, 1.0, 'Top 20 Keywords con mejor porcentaje de veracidad')"
      ]
     },
     "execution_count": 12,
     "metadata": {},
     "output_type": "execute_result"
    },
    {
     "data": {
      "image/png": "[encoded data removed]",
      "text/plain": [
       "<Figure size 720x720 with 1 Axes>"
      ]
     },
     "metadata": {
      "needs_background": "light"
     },
     "output_type": "display_data"
    }
   ],
   "source": [
    "saltos = np.linspace(0.3, 0.7, 20)\n",
    "colores = (cm.get_cmap('YlOrBr'))(saltos)\n",
    "top20 = keywords_veraces.sort_values().plot(kind='barh', figsize=(10,10), color=colores, width=0.85)\n",
    "\n",
    "plt.xticks(np.arange(0, 100+1, 10.0))\n",
    "plt.tick_params(axis='y', length=0)\n",
    "\n",
    "top20.spines['right'].set_visible(False)\n",
    "top20.spines['top'].set_visible(False)\n",
    "top20.spines['left'].set_visible(False)\n",
    "top20.spines['bottom'].set_visible(False)\n",
    "\n",
    "lineas = top20.get_xticks()\n",
    "for i in lineas:\n",
    "      top20.axvline(x=i, linestyle='--', alpha=0.4, color='#eeeeee')\n",
    "        \n",
    "top20.set_xlabel(\"Porcentaje de Veracidad\", labelpad=20, weight='bold', size=16)\n",
    "top20.set_ylabel(\"Keyword del Tweet\", labelpad=20, weight='bold', size=16)\n",
    "\n",
    "plt.title(\"Top 20 Keywords con mejor porcentaje de veracidad\", weight='bold', size=20, pad=30)"
   ]
  },
  {
   "cell_type": "code",
   "execution_count": 13,
   "metadata": {},
   "outputs": [
    {
     "data": {
      "text/plain": [
       "Text(0.5, 1.0, 'Top 20 Keywords con peor porcentaje de veracidad')"
      ]
     },
     "execution_count": 13,
     "metadata": {},
     "output_type": "execute_result"
    },
    {
     "data": {
      "image/png": "[encoded data removed]",
      "text/plain": [
       "<Figure size 720x720 with 1 Axes>"
      ]
     },
     "metadata": {
      "needs_background": "light"
     },
     "output_type": "display_data"
    }
   ],
   "source": [
    "top20 = keywords_no_veraces.sort_values().plot(kind='barh', figsize=(10,10), color=colores, width=0.85)\n",
    "\n",
    "plt.xticks(np.arange(0, 100+1, 10.0))\n",
    "plt.tick_params(axis='y', length=0)\n",
    "\n",
    "top20.spines['right'].set_visible(False)\n",
    "top20.spines['top'].set_visible(False)\n",
    "top20.spines['left'].set_visible(False)\n",
    "top20.spines['bottom'].set_visible(False)\n",
    "\n",
    "lineas = top20.get_xticks()\n",
    "for i in lineas:\n",
    "      top20.axvline(x=i, linestyle='--', alpha=0.4, color='#eeeeee')\n",
    "        \n",
    "top20.set_xlabel(\"Porcentaje de Veracidad\", labelpad=20, weight='bold', size=16)\n",
    "top20.set_ylabel(\"Keyword del Tweet\", labelpad=20, weight='bold', size=16)\n",
    "\n",
    "plt.title(\"Top 20 Keywords con peor porcentaje de veracidad\", weight='bold', size=20, pad=30)"
   ]
  },
  {
   "cell_type": "code",
   "execution_count": 33,
   "metadata": {},
   "outputs": [
    {
     "data": {
      "text/plain": [
       "Text(0.5, 1.0, 'Cantidad de Keywords por porcentaje de veracidad')"
      ]
     },
     "execution_count": 33,
     "metadata": {},
     "output_type": "execute_result"
    },
    {
     "data": {
      "image/png": "[encoded data removed]",
      "text/plain": [
       "<Figure size 720x720 with 1 Axes>"
      ]
     },
     "metadata": {
      "needs_background": "light"
     },
     "output_type": "display_data"
    }
   ],
   "source": [
    "plt.figure(figsize=(10,10))    \n",
    "n, bins, patches = plt.hist(tweets_por_keyword[\"veracity\"]*100, bins=10, color=\"c\")\n",
    "hist_porcentajes = plt.gca()\n",
    "\n",
    "for i,p in enumerate(patches):\n",
    "    plt.setp(p, \"facecolor\", colores[i+3])\n",
    "\n",
    "plt.xticks(np.arange(0, 100+1, 10.0))\n",
    "plt.yticks(np.arange(0, 40+1, 5.0))\n",
    "plt.tick_params(axis='y', length=0)\n",
    "\n",
    "hist_porcentajes.spines['right'].set_visible(False)\n",
    "hist_porcentajes.spines['top'].set_visible(False)\n",
    "hist_porcentajes.spines['left'].set_visible(False)\n",
    "\n",
    "lineas = hist_porcentajes.get_yticks()\n",
    "for i in lineas:\n",
    "      hist_porcentajes.axhline(y=i, linestyle='--', alpha=0.4, color='#eeeeee')\n",
    "        \n",
    "hist_porcentajes.set_xlabel(\"Porcentaje de Veracidad\", labelpad=20, weight='bold', size=16)\n",
    "hist_porcentajes.set_ylabel(\"Cantidad de Keywords\", labelpad=20, weight='bold', size=16)\n",
    "\n",
    "plt.title(\"Cantidad de Keywords por porcentaje de veracidad\", weight='bold', size=20, pad=30)"
   ]
  }
 ],
 "metadata": {
  "kernelspec": {
   "display_name": "Python 3",
   "language": "python",
   "name": "python3"
  },
  "language_info": {
   "codemirror_mode": {
    "name": "ipython",
    "version": 3
   },
   "file_extension": ".py",
   "mimetype": "text/x-python",
   "name": "python",
   "nbconvert_exporter": "python",
   "pygments_lexer": "ipython3",
   "version": "3.7.6"
  }
 },
 "nbformat": 4,
 "nbformat_minor": 2
}
