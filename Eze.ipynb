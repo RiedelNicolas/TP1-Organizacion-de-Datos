{
 "cells": [
  {
   "cell_type": "code",
   "execution_count": 1,
   "metadata": {},
   "outputs": [
    {
     "ename": "ModuleNotFoundError",
     "evalue": "No module named 'geopandas'",
     "output_type": "error",
     "traceback": [
      "\u001b[0;31m---------------------------------------------------------------------------\u001b[0m",
      "\u001b[0;31mModuleNotFoundError\u001b[0m                       Traceback (most recent call last)",
      "\u001b[0;32m<ipython-input-1-57b4c6f29ac4>\u001b[0m in \u001b[0;36m<module>\u001b[0;34m\u001b[0m\n\u001b[1;32m      7\u001b[0m \u001b[0;32mfrom\u001b[0m \u001b[0mbokeh\u001b[0m\u001b[0;34m.\u001b[0m\u001b[0mio\u001b[0m \u001b[0;32mimport\u001b[0m \u001b[0mexport_png\u001b[0m\u001b[0;34m\u001b[0m\u001b[0;34m\u001b[0m\u001b[0m\n\u001b[1;32m      8\u001b[0m \u001b[0;32mfrom\u001b[0m \u001b[0mbokeh\u001b[0m\u001b[0;34m.\u001b[0m\u001b[0mio\u001b[0m\u001b[0;34m.\u001b[0m\u001b[0mexport\u001b[0m \u001b[0;32mimport\u001b[0m \u001b[0mget_screenshot_as_png\u001b[0m\u001b[0;34m\u001b[0m\u001b[0;34m\u001b[0m\u001b[0m\n\u001b[0;32m----> 9\u001b[0;31m \u001b[0;32mimport\u001b[0m \u001b[0mgeopandas\u001b[0m\u001b[0;34m\u001b[0m\u001b[0;34m\u001b[0m\u001b[0m\n\u001b[0m",
      "\u001b[0;31mModuleNotFoundError\u001b[0m: No module named 'geopandas'"
     ]
    }
   ],
   "source": [
    "import pandas as pd\n",
    "import numpy as np\n",
    "import matplotlib.pyplot as plt\n",
    "import seaborn as sns\n",
    "import matplotlib.cm as cm\n",
    "from bokeh.plotting import figure, output_file, show\n",
    "from bokeh.io import export_png\n",
    "from bokeh.io.export import get_screenshot_as_png\n",
    "import geopandas"
   ]
  },
  {
   "cell_type": "code",
   "execution_count": null,
   "metadata": {},
   "outputs": [],
   "source": [
    "tweets = pd.read_csv('../TP1-Organizacion-de-Datos/csv/train.csv')"
   ]
  },
  {
   "cell_type": "code",
   "execution_count": null,
   "metadata": {},
   "outputs": [],
   "source": [
    "tweets.sample(n = 5)"
   ]
  },
  {
   "cell_type": "code",
   "execution_count": null,
   "metadata": {},
   "outputs": [],
   "source": [
    "ciudades = pd.read_csv('../TP1-Organizacion-de-Datos/csv/worldcities.csv')"
   ]
  },
  {
   "cell_type": "code",
   "execution_count": null,
   "metadata": {},
   "outputs": [],
   "source": [
    "ciudades.sample(n = 5)"
   ]
  },
  {
   "cell_type": "code",
   "execution_count": null,
   "metadata": {},
   "outputs": [],
   "source": [
    "tweets['location'].isnull().sum()"
   ]
  },
  {
   "cell_type": "code",
   "execution_count": null,
   "metadata": {},
   "outputs": [],
   "source": [
    "tweets['location'].isnull().mean()"
   ]
  },
  {
   "cell_type": "code",
   "execution_count": null,
   "metadata": {},
   "outputs": [],
   "source": [
    "location_list = tweets['location'].tolist()"
   ]
  },
  {
   "cell_type": "code",
   "execution_count": null,
   "metadata": {},
   "outputs": [],
   "source": [
    "ciudades_ocurr = tweets['location'].value_counts()"
   ]
  },
  {
   "cell_type": "code",
   "execution_count": null,
   "metadata": {},
   "outputs": [],
   "source": [
    "ciudades_ocurr"
   ]
  },
  {
   "cell_type": "code",
   "execution_count": null,
   "metadata": {},
   "outputs": [],
   "source": [
    "ciudades_list = ciudades['city_ascii']\n",
    "ciudades_list = pd.DataFrame(ciudades_list)"
   ]
  },
  {
   "cell_type": "code",
   "execution_count": null,
   "metadata": {},
   "outputs": [],
   "source": [
    "ciudades_list['ocurrencia'] = 0"
   ]
  },
  {
   "cell_type": "code",
   "execution_count": null,
   "metadata": {},
   "outputs": [],
   "source": [
    "ciudades_list"
   ]
  },
  {
   "cell_type": "code",
   "execution_count": null,
   "metadata": {},
   "outputs": [],
   "source": [
    "ciudades_list.shape"
   ]
  },
  {
   "cell_type": "code",
   "execution_count": null,
   "metadata": {},
   "outputs": [],
   "source": [
    "ciudades_list['city_ascii'].count()"
   ]
  },
  {
   "cell_type": "code",
   "execution_count": null,
   "metadata": {},
   "outputs": [],
   "source": [
    "ciudades_list['veracidad'] = 0\n",
    "ciudades_list['cant_verdaderos'] = 0"
   ]
  },
  {
   "cell_type": "code",
   "execution_count": null,
   "metadata": {},
   "outputs": [],
   "source": [
    "ciudades_list['veracidad'] = ciudades_list['veracidad'].astype(float)"
   ]
  },
  {
   "cell_type": "code",
   "execution_count": null,
   "metadata": {},
   "outputs": [],
   "source": [
    "ciudades_list.dtypes"
   ]
  },
  {
   "cell_type": "code",
   "execution_count": null,
   "metadata": {},
   "outputs": [],
   "source": [
    "tienenLaCiudad = pd.DataFrame(columns=('tweetDeLaCiudad', 'V/F'))\n",
    "tienenLaCiudad['V/F'] = tweets['target']"
   ]
  },
  {
   "cell_type": "markdown",
   "metadata": {},
   "source": [
    "Comparo cada ciudad del mundo con los tweets y busco si el nombre de la ciudad esta incluido en el campo \"Location\" de cada Tweet"
   ]
  },
  {
   "cell_type": "code",
   "execution_count": null,
   "metadata": {},
   "outputs": [],
   "source": [
    "#CUIDADO AL EJECUTAR ESTO xD\n",
    "for x in range(ciudades_list['city_ascii'].count()):\n",
    "    ciudad = ciudades_list.loc[x, 'city_ascii']\n",
    "    if (len(ciudad) > 4):\n",
    "        tienenLaCiudad['tweetDeLaCiudad'] = tweets.loc[:, 'location'].str.contains(ciudad, regex = False)\n",
    "    else:\n",
    "        tienenLaCiudad['tweetDeLaCiudad'] = (tweets.loc[:, 'location'] == ciudad)\n",
    "        \n",
    "    cant_tweets = tienenLaCiudad[tienenLaCiudad['tweetDeLaCiudad'] == True]['tweetDeLaCiudad'].count()\n",
    "    verdaderos = tienenLaCiudad[(tienenLaCiudad['V/F'] == 1) & (tienenLaCiudad['tweetDeLaCiudad'] == True)]['V/F'].count()\n",
    "    \n",
    "    ciudades_list.loc[x, 'cant_verdaderos'] = verdaderos\n",
    "    ciudades_list.loc[x, 'ocurrencia'] = cant_tweets\n",
    "    if (cant_tweets != 0):\n",
    "        ciudades_list.loc[x, 'veracidad'] = float(verdaderos)/float(cant_tweets)"
   ]
  },
  {
   "cell_type": "code",
   "execution_count": null,
   "metadata": {},
   "outputs": [],
   "source": [
    "ciudades_list"
   ]
  },
  {
   "cell_type": "code",
   "execution_count": null,
   "metadata": {},
   "outputs": [],
   "source": [
    "Ciudades_Mas_10_Tweets = (ciudades_list.loc[:,'ocurrencia'] > 10)"
   ]
  },
  {
   "cell_type": "code",
   "execution_count": null,
   "metadata": {},
   "outputs": [],
   "source": [
    "Top_populares = ciudades_list.loc[Ciudades_Mas_10_Tweets]"
   ]
  },
  {
   "cell_type": "code",
   "execution_count": null,
   "metadata": {},
   "outputs": [],
   "source": [
    "Top_populares = Top_populares.sort_values('ocurrencia', ascending = False)"
   ]
  },
  {
   "cell_type": "code",
   "execution_count": null,
   "metadata": {},
   "outputs": [],
   "source": [
    "Top_populares = Top_populares.drop_duplicates(['city_ascii'])"
   ]
  },
  {
   "cell_type": "code",
   "execution_count": null,
   "metadata": {},
   "outputs": [],
   "source": [
    "Top_populares"
   ]
  },
  {
   "cell_type": "code",
   "execution_count": null,
   "metadata": {},
   "outputs": [],
   "source": [
    "saltos = np.linspace(0.3, 0.7, 48)\n",
    "colores = (cm.get_cmap('YlOrBr'))(saltos)\n",
    "Top_populares = Top_populares.sort_values('ocurrencia')\n",
    "Top_populares_plot = Top_populares.plot(kind='bar', y ='ocurrencia', x = 'city_ascii', figsize=(15, 30), color=colores, width=0.85)\n",
    "\n",
    "plt.xticks(np.arange(0, 48, 1.0))\n",
    "plt.tick_params(axis='y', length=0)\n",
    "\n",
    "#Top_populares_plot.spines['right'].set_visible(False)\n",
    "#Top_populares_plot.spines['top'].set_visible(False)\n",
    "#Top_populares_plot.spines['left'].set_visible(False)\n",
    "#Top_populares_plot.spines['bottom'].set_visible(False)\n",
    "\n",
    "lineas = Top_populares_plot.get_xticks()\n",
    "for i in lineas:\n",
    "      Top_populares_plot.axvline(x=i, linestyle='--', alpha=0.4, color='#eeeeee')\n",
    "    \n",
    "plt.gca().invert_xaxis()\n",
    "\n",
    "Top_populares_plot.set_xlabel(\"Ciudad\", labelpad=20, weight='bold', size=16)\n",
    "Top_populares_plot.set_ylabel(\"Cantidad de Tweets\", labelpad=20, weight='bold', size=16)\n",
    "Top_populares_plot.set_title(\"Ciudades con mayor cantidad de Tweets\", weight='bold', size=20)"
   ]
  },
  {
   "cell_type": "code",
   "execution_count": null,
   "metadata": {},
   "outputs": [],
   "source": [
    "saltos = np.linspace(0.3, 0.7, 50)\n",
    "colores = (cm.get_cmap('YlOrBr'))(saltos)\n",
    "Top_populares = Top_populares.sort_values('veracidad')\n",
    "Top_populares_plot = Top_populares.plot(kind='bar', y ='veracidad', x = 'city_ascii', figsize=(15, 30), color=colores, width=0.85)\n",
    "\n",
    "plt.xticks(np.arange(0, 47, 1), rotation = 80)\n",
    "plt.tick_params(axis='y', length=0)\n",
    "\n",
    "#Top_populares_plot.spines['right'].set_visible(False)\n",
    "#Top_populares_plot.spines['top'].set_visible(False)\n",
    "#Top_populares_plot.spines['left'].set_visible(False)\n",
    "#Top_populares_plot.spines['bottom'].set_visible(False)\n",
    "\n",
    "lineas = Top_populares_plot.get_xticks()\n",
    "for i in lineas:\n",
    "      Top_populares_plot.axvline(x=i, linestyle='--', alpha=0.4, color='#eeeeee')\n",
    "\n",
    "plt.gca().invert_xaxis()\n",
    "        \n",
    "Top_populares_plot.set_xlabel(\"Ciudad\", labelpad=20, weight='bold', size=16)\n",
    "Top_populares_plot.set_ylabel(\"Veracidad promedio\", labelpad=20, weight='bold', size=16)\n",
    "Top_populares_plot.set_title(\"Veracidad promedio de los Tweets por ciudad\", weight='bold', size=20)"
   ]
  },
  {
   "cell_type": "code",
   "execution_count": null,
   "metadata": {},
   "outputs": [],
   "source": [
    "ciudades_list['Pais'] = ciudades['country']"
   ]
  },
  {
   "cell_type": "code",
   "execution_count": null,
   "metadata": {},
   "outputs": [],
   "source": [
    "ciudades_list"
   ]
  },
  {
   "cell_type": "code",
   "execution_count": null,
   "metadata": {},
   "outputs": [],
   "source": [
    "ciudades_list = ciudades_list.drop_duplicates('city_ascii', keep = 'first')"
   ]
  },
  {
   "cell_type": "code",
   "execution_count": null,
   "metadata": {},
   "outputs": [],
   "source": [
    "ciudades_list.shape"
   ]
  },
  {
   "cell_type": "code",
   "execution_count": null,
   "metadata": {},
   "outputs": [],
   "source": [
    "Tweets_Paises = pd.DataFrame({'Cantidad_Tweets': 0, 'Pais': ciudades['country'], 'Veracidad': 0, 'Cantidad_Tweets_Verdaderos': 0})"
   ]
  },
  {
   "cell_type": "code",
   "execution_count": null,
   "metadata": {},
   "outputs": [],
   "source": [
    "Tweets_Paises['Veracidad'] = Tweets_Paises['Veracidad'].astype(float)"
   ]
  },
  {
   "cell_type": "code",
   "execution_count": null,
   "metadata": {},
   "outputs": [],
   "source": [
    "Tweets_Paises['Pais'].describe()"
   ]
  },
  {
   "cell_type": "code",
   "execution_count": null,
   "metadata": {},
   "outputs": [],
   "source": [
    "Tweets_Paises = Tweets_Paises.drop_duplicates(['Pais'])\n",
    "Tweets_Paises = Tweets_Paises.reset_index(drop = True)"
   ]
  },
  {
   "cell_type": "code",
   "execution_count": null,
   "metadata": {},
   "outputs": [],
   "source": [
    "Tweets_Paises.dtypes"
   ]
  },
  {
   "cell_type": "code",
   "execution_count": null,
   "metadata": {},
   "outputs": [],
   "source": [
    "ciudades_list.dtypes"
   ]
  },
  {
   "cell_type": "code",
   "execution_count": null,
   "metadata": {},
   "outputs": [],
   "source": [
    "ciudades_list"
   ]
  },
  {
   "cell_type": "code",
   "execution_count": null,
   "metadata": {},
   "outputs": [],
   "source": [
    "#CUIDADO AL EJECUTAR ESTO xD\n",
    "for w in range(Tweets_Paises['Pais'].count()):\n",
    "    \n",
    "    pais = Tweets_Paises.loc[w, 'Pais']\n",
    "    \n",
    "    la_ciudad_es_del_pais = ciudades_list.loc[:, 'Pais'].str.contains(pais , regex = False)\n",
    "    \n",
    "    ciudades_del_pais = ciudades_list.loc[la_ciudad_es_del_pais]\n",
    "    \n",
    "    total_tweets_pais = ciudades_del_pais['ocurrencia'].sum()\n",
    "\n",
    "    total_tweets_verdaderos_pais = ciudades_del_pais['cant_verdaderos'].sum()\n",
    "    \n",
    "    Tweets_Paises.loc[w, 'Cantidad_Tweets'] = total_tweets_pais\n",
    "    \n",
    "    Tweets_Paises.loc[w, 'Cantidad_Tweets_Verdaderos'] = total_tweets_verdaderos_pais\n",
    "    \n",
    "    if (total_tweets_pais != 0):\n",
    "        \n",
    "        Tweets_Paises.loc[w, 'Veracidad'] = float(total_tweets_verdaderos_pais)/float(total_tweets_pais)"
   ]
  },
  {
   "cell_type": "code",
   "execution_count": null,
   "metadata": {},
   "outputs": [],
   "source": [
    "Tweets_Paises"
   ]
  },
  {
   "cell_type": "code",
   "execution_count": null,
   "metadata": {},
   "outputs": [],
   "source": [
    "Tweets_Paises['Cantidad_Tweets'].sum()"
   ]
  },
  {
   "cell_type": "code",
   "execution_count": null,
   "metadata": {},
   "outputs": [],
   "source": [
    "paises_mas_10_tweets = (Tweets_Paises.loc[:,'Cantidad_Tweets'] > 10)"
   ]
  },
  {
   "cell_type": "code",
   "execution_count": null,
   "metadata": {},
   "outputs": [],
   "source": [
    "paises_mas_10_tweets = Tweets_Paises.loc[paises_mas_10_tweets]"
   ]
  },
  {
   "cell_type": "code",
   "execution_count": null,
   "metadata": {},
   "outputs": [],
   "source": [
    "paises_mas_10_tweets = paises_mas_10_tweets.sort_values('Cantidad_Tweets')"
   ]
  },
  {
   "cell_type": "code",
   "execution_count": null,
   "metadata": {},
   "outputs": [],
   "source": [
    "saltos = np.linspace(0.3, 0.7, 20)\n",
    "colores = (cm.get_cmap('YlOrBr'))(saltos)\n",
    "\n",
    "paises_mas_10_tweets_plot = paises_mas_10_tweets.plot(kind='bar', y ='Cantidad_Tweets', x = 'Pais', figsize=(15, 15), color=colores, width=0.85)\n",
    "\n",
    "plt.xticks(np.arange(0, 19, 1.0))\n",
    "plt.tick_params(axis='y', length=0)\n",
    "\n",
    "#paises_mas_10_tweets_plot.spines['right'].set_visible(False)\n",
    "#paises_mas_10_tweets_plot.spines['top'].set_visible(False)\n",
    "#paises_mas_10_tweets_plot.spines['left'].set_visible(False)\n",
    "#paises_mas_10_tweets_plot.spines['bottom'].set_visible(False)\n",
    "\n",
    "lineas = paises_mas_10_tweets_plot.get_xticks()\n",
    "for i in lineas:\n",
    "      paises_mas_10_tweets_plot.axvline(x=i, linestyle='--', alpha=0.4, color='#eeeeee')\n",
    "        \n",
    "plt.xticks(fontsize = 10, rotation = 40)\n",
    "plt.yticks(fontsize = 10)\n",
    "\n",
    "plt.gca().invert_xaxis()\n",
    "\n",
    "paises_mas_10_tweets_plot.set_xlabel(\"Pais\", labelpad=20, weight='bold', size=16)\n",
    "paises_mas_10_tweets_plot.set_ylabel(\"Cantidad de Tweets\", labelpad=20, weight='bold', size=16)\n",
    "paises_mas_10_tweets_plot.set_title(\"Paises con mayor cantidad de Tweets\", weight='bold', size=20)"
   ]
  },
  {
   "cell_type": "code",
   "execution_count": null,
   "metadata": {},
   "outputs": [],
   "source": [
    "saltos = np.linspace(0.3, 0.7, 20)\n",
    "colores = (cm.get_cmap('YlOrBr'))(saltos)\n",
    "\n",
    "paises_mas_10_tweets_plot = paises_mas_10_tweets.plot(kind='bar', y ='Veracidad', x = 'Pais', figsize=(30,10), color=colores, width=0.80)\n",
    "\n",
    "paises_mas_10_tweets_plot.spines['right'].set_visible(False)\n",
    "paises_mas_10_tweets_plot.spines['top'].set_visible(False)\n",
    "paises_mas_10_tweets_plot.spines['left'].set_visible(False)\n",
    "paises_mas_10_tweets_plot.spines['bottom'].set_visible(False)\n",
    "\n",
    "lineas = paises_mas_10_tweets_plot.get_xticks()\n",
    "for i in lineas:\n",
    "      paises_mas_10_tweets_plot.axvline(x=i, linestyle='--', alpha=0.4, color='#eeeeee')\n",
    "             \n",
    "plt.xticks(fontsize = 15, rotation = 40)\n",
    "plt.yticks(fontsize = 15)\n",
    "\n",
    "paises_mas_10_tweets_plot.set_xlabel(\"Pais\", labelpad=20, weight='bold', size=16)\n",
    "paises_mas_10_tweets_plot.set_ylabel(\"Veracidad promedio\", labelpad=20, weight='bold', size=16)\n",
    "paises_mas_10_tweets_plot.set_title(\"Veracidad promedio de los Tweets por pais\", weight='bold', size=20)"
   ]
  },
  {
   "cell_type": "markdown",
   "metadata": {},
   "source": [
    "Veracidad de los tweets cuando la locacion es \"valida\""
   ]
  },
  {
   "cell_type": "code",
   "execution_count": null,
   "metadata": {},
   "outputs": [],
   "source": [
    "Tweets_Paises['Cantidad_Tweets'].sum()"
   ]
  },
  {
   "cell_type": "code",
   "execution_count": null,
   "metadata": {},
   "outputs": [],
   "source": [
    "Tweets_Paises['Cantidad_Tweets_Verdaderos'].sum()"
   ]
  },
  {
   "cell_type": "code",
   "execution_count": null,
   "metadata": {},
   "outputs": [],
   "source": [
    "float(Tweets_Paises['Cantidad_Tweets_Verdaderos'].sum())/float(Tweets_Paises['Cantidad_Tweets'].sum())"
   ]
  },
  {
   "cell_type": "markdown",
   "metadata": {},
   "source": [
    "------------------------------------------------------------------------------------------------------------------"
   ]
  },
  {
   "cell_type": "code",
   "execution_count": null,
   "metadata": {},
   "outputs": [],
   "source": [
    "Tweets_Verdaderos_Locations_Invalidas = (tweets['target'].sum() - Tweets_Paises['Cantidad_Tweets_Verdaderos'].sum())"
   ]
  },
  {
   "cell_type": "code",
   "execution_count": null,
   "metadata": {},
   "outputs": [],
   "source": [
    "Tweets_Verdaderos_Locations_Invalidas"
   ]
  },
  {
   "cell_type": "code",
   "execution_count": null,
   "metadata": {},
   "outputs": [],
   "source": [
    "Tweets_Totales_Locations_Invalidas = (tweets['id'].count() - Tweets_Paises['Cantidad_Tweets'].sum())"
   ]
  },
  {
   "cell_type": "code",
   "execution_count": null,
   "metadata": {},
   "outputs": [],
   "source": [
    "Tweets_Totales_Locations_Invalidas"
   ]
  },
  {
   "cell_type": "code",
   "execution_count": null,
   "metadata": {},
   "outputs": [],
   "source": [
    "float(Tweets_Verdaderos_Locations_Invalidas)/float(Tweets_Totales_Locations_Invalidas)"
   ]
  },
  {
   "cell_type": "markdown",
   "metadata": {},
   "source": [
    "Cuando la location es invalida hay una ligera diferencia entre la veracidad de los Tweets"
   ]
  },
  {
   "cell_type": "code",
   "execution_count": null,
   "metadata": {},
   "outputs": [],
   "source": [
    "ciudades_list = ciudades_list.reset_index(drop = True)"
   ]
  },
  {
   "cell_type": "code",
   "execution_count": null,
   "metadata": {},
   "outputs": [],
   "source": [
    "ciudades = ciudades.drop_duplicates('city_ascii', keep = 'first')"
   ]
  },
  {
   "cell_type": "code",
   "execution_count": null,
   "metadata": {},
   "outputs": [],
   "source": [
    "ciudades = ciudades.reset_index(drop = True) # A ciudades_list ya le habia hecho el drop_duplicates antes."
   ]
  },
  {
   "cell_type": "code",
   "execution_count": null,
   "metadata": {},
   "outputs": [],
   "source": [
    "ciudades_list['cant_habitantes'] = ciudades['population']"
   ]
  },
  {
   "cell_type": "code",
   "execution_count": null,
   "metadata": {},
   "outputs": [],
   "source": [
    "ciudades_list"
   ]
  },
  {
   "cell_type": "code",
   "execution_count": null,
   "metadata": {},
   "outputs": [],
   "source": [
    "Ciudades_Mas_De_10_Tweets = (ciudades_list.loc[:,'ocurrencia'] > 5)"
   ]
  },
  {
   "cell_type": "code",
   "execution_count": null,
   "metadata": {},
   "outputs": [],
   "source": [
    "fig, ax= plt.subplots(figsize = (10, 10))\n",
    "Plot = sns.scatterplot(x = \"veracidad\", y = \"cant_habitantes\", data = ciudades_list.loc[Ciudades_Mas_De_10_Tweets], ax = ax)\n",
    "\n",
    "Plot.set_xlabel(\"Veracidad\", labelpad=20, weight='bold', size=16)\n",
    "Plot.set_ylabel(\"Cantidad de habitantes\", labelpad=20, weight='bold', size=16)\n",
    "Plot.set_title(\"Cantidad de habitantes Vs. Veracidad\", weight='bold', size=20)\n"
   ]
  },
  {
   "cell_type": "code",
   "execution_count": null,
   "metadata": {},
   "outputs": [],
   "source": [
    "fig, ax= plt.subplots(figsize = (10, 10))\n",
    "Plot = sns.scatterplot(x = \"veracidad\", y = \"ocurrencia\", data = ciudades_list.loc[Ciudades_Mas_De_10_Tweets], ax = ax)\n",
    "\n",
    "Plot.set_xlabel(\"Veracidad\", labelpad=20, weight='bold', size=16)\n",
    "Plot.set_ylabel(\"Cantidad de Tweets\", labelpad=20, weight='bold', size=16)\n",
    "Plot.set_title(\"Cantidad de Tweets Vs. Veracidad (Por ciudad)\", weight='bold', size=20)"
   ]
  },
  {
   "cell_type": "code",
   "execution_count": null,
   "metadata": {},
   "outputs": [],
   "source": [
    "cmap = cm.get_cmap('YlOrBr')\n",
    "paleta = cmap(np.linspace(0.3, 0.9,100))\n",
    "\n",
    "colores_rgb = []\n",
    "for i in paleta:\n",
    "    #convierto rgba en rgb\n",
    "    aux = list(i)\n",
    "    del aux[3]\n",
    "    aux = (int(x * 255) for x in aux)\n",
    "    aux =tuple(aux)\n",
    "    colores_rgb.append((aux))"
   ]
  },
  {
   "cell_type": "code",
   "execution_count": null,
   "metadata": {},
   "outputs": [],
   "source": [
    "type(colores_rgb)"
   ]
  },
  {
   "cell_type": "code",
   "execution_count": null,
   "metadata": {},
   "outputs": [],
   "source": [
    "# prepare some data\n",
    "x = ciudades_list.loc[Ciudades_Mas_De_10_Tweets]['veracidad']\n",
    "y = ciudades_list.loc[Ciudades_Mas_De_10_Tweets]['ocurrencia']\n",
    "radii = np.sqrt(ciudades_list.loc[Ciudades_Mas_De_10_Tweets]['cant_habitantes'])/7e4\n",
    "colors = [\n",
    "    \"#%02x%02x%02x\" % i for i in colores_rgb\n",
    "]\n",
    "\n",
    "# output to static HTML file (with CDN resources)\n",
    "output_file(\"Veracidad_Vs_Cantidad de Tweets.html\", title=\"color_scatter.py example\", mode=\"cdn\")\n",
    "\n",
    "TOOLS = \"crosshair,pan,wheel_zoom,box_zoom,reset,box_select,lasso_select\"\n",
    "\n",
    "# create a new plot with the tools above, and explicit ranges\n",
    "p = figure(tools=TOOLS, x_range=(0, 1), y_range=(0, 150), width=1000, height=1000)\n",
    "\n",
    "# add a circle renderer with vectorized colors and sizes\n",
    "p.circle(x, y, radius=radii, fill_color=colors, fill_alpha=0.6, line_color=None)\n",
    "\n",
    "p.title.text = \"Veracidad Vs. Cantidad de Tweets (Por ciudad)\"\n",
    "p.legend.location = \"top\"\n",
    "p.xaxis.axis_label = 'Veracidad promedio'\n",
    "p.yaxis.axis_label = 'Cantidad de Tweets'\n",
    "\n",
    "# show the results\n",
    "show(p)"
   ]
  },
  {
   "cell_type": "code",
   "execution_count": null,
   "metadata": {},
   "outputs": [],
   "source": [
    "# prepare some data\n",
    "x = ciudades_list.loc[Ciudades_Mas_De_10_Tweets]['veracidad']\n",
    "y = ciudades_list.loc[Ciudades_Mas_De_10_Tweets]['cant_habitantes']/1e5\n",
    "radii = np.sqrt(ciudades_list.loc[Ciudades_Mas_De_10_Tweets]['ocurrencia'])/1e2\n",
    "# output to static HTML file (with CDN resources)\n",
    "output_file(\"Veracidad_Vs_Cantidad de Habitantes.html\", title=\"color_scatter.py example\", mode=\"cdn\")\n",
    "\n",
    "TOOLS = \"crosshair,pan,wheel_zoom,box_zoom,reset,box_select,lasso_select\"\n",
    "\n",
    "# create a new plot with the tools above, and explicit ranges\n",
    "q = figure(tools=TOOLS, x_range=(0, 1), y_range=(0, 150), width=1000, height=1000)\n",
    "\n",
    "# add a circle renderer with vectorized colors and sizes\n",
    "q.circle(x, y, radius=radii, fill_color=colors, fill_alpha=0.6, line_color=None)\n",
    "\n",
    "q.title.text = \"Veracidad Vs. Cantidad de Habitantes (Por ciudad)\"\n",
    "q.legend.location = \"top\"\n",
    "q.xaxis.axis_label = 'Veracidad promedio'\n",
    "q.yaxis.axis_label = 'Cantidad de Habitantes (x1e5)'\n",
    "\n",
    "# show the results\n",
    "show(q)"
   ]
  },
  {
   "cell_type": "code",
   "execution_count": null,
   "metadata": {},
   "outputs": [],
   "source": [
    "world = geopandas.read_file(geopandas.datasets.get_path('naturalearth_lowres'))"
   ]
  },
  {
   "cell_type": "code",
   "execution_count": null,
   "metadata": {},
   "outputs": [],
   "source": [
    "world.head()"
   ]
  },
  {
   "cell_type": "code",
   "execution_count": null,
   "metadata": {},
   "outputs": [],
   "source": [
    "world.count()"
   ]
  },
  {
   "cell_type": "code",
   "execution_count": null,
   "metadata": {},
   "outputs": [],
   "source": [
    "iso3 = pd.DataFrame({'iso3': ciudades['iso3']})\n",
    "iso3 = iso3.drop_duplicates('iso3', keep = 'first')\n",
    "iso3 = iso3.reset_index(drop = True)\n",
    "Tweets_Paises['iso3']=iso3['iso3']"
   ]
  },
  {
   "cell_type": "code",
   "execution_count": null,
   "metadata": {},
   "outputs": [],
   "source": [
    "#CUIDADO AL EJECUTAR ESTO xD\n",
    "for w in range(world['name'].count()):\n",
    "    \n",
    "    code_pais = world.loc[w, 'iso_a3']\n",
    "    \n",
    "    el_code_es_del_pais = Tweets_Paises.loc[:, 'iso3'] == code_pais\n",
    "    \n",
    "    codigo_del_pais = Tweets_Paises.loc[el_code_es_del_pais]\n",
    "    \n",
    "    world.loc[w, 'veracidad'] = np.nan\n",
    "    \n",
    "    if codigo_del_pais['Cantidad_Tweets'].sum() > 5:\n",
    "        \n",
    "        world.loc[w, 'veracidad'] = codigo_del_pais['Veracidad'].sum()"
   ]
  },
  {
   "cell_type": "code",
   "execution_count": null,
   "metadata": {},
   "outputs": [],
   "source": [
    "world"
   ]
  },
  {
   "cell_type": "code",
   "execution_count": null,
   "metadata": {},
   "outputs": [],
   "source": [
    "fig, ax = plt.subplots(figsize = (150, 20))\n",
    "world = world[world.name!=\"Antarctica\"]\n",
    "\n",
    "ax.patch.set_facecolor('#eeeeee')\n",
    "\n",
    "world.plot(column='veracidad', ax = ax, legend = True, cmap='OrRd')"
   ]
  },
  {
   "cell_type": "code",
   "execution_count": null,
   "metadata": {},
   "outputs": [],
   "source": []
  }
 ],
 "metadata": {
  "kernelspec": {
   "display_name": "Python 2",
   "language": "python",
   "name": "python2"
  },
  "language_info": {
   "codemirror_mode": {
    "name": "ipython",
    "version": 3
   },
   "file_extension": ".py",
   "mimetype": "text/x-python",
   "name": "python",
   "nbconvert_exporter": "python",
   "pygments_lexer": "ipython3",
   "version": "3.7.6"
  }
 },
 "nbformat": 4,
 "nbformat_minor": 4
}
